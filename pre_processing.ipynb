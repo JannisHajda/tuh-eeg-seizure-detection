{
 "cells": [
  {
   "cell_type": "markdown",
   "id": "599a272864cdf9e2",
   "metadata": {},
   "source": [
    "# Pre-processing pipeline"
   ]
  },
  {
   "cell_type": "code",
   "execution_count": 1,
   "id": "ddad884de149379",
   "metadata": {},
   "outputs": [],
   "source": [
    "import mne\n",
    "import numpy\n",
    "import pandas as pd\n",
    "import os\n",
    "import numpy as np\n",
    "import matplotlib.pyplot as plt\n",
    "import concurrent.futures\n",
    "import pywt\n",
    "import scipy as sp\n",
    "from sklearn.model_selection import StratifiedGroupKFold\n",
    "import re\n",
    "from mne.preprocessing import ICA"
   ]
  },
  {
   "cell_type": "markdown",
   "id": "c52a548a065ad8e1",
   "metadata": {},
   "source": [
    "### configuration setup"
   ]
  },
  {
   "cell_type": "code",
   "execution_count": 2,
   "id": "58fa827c8a95fe39",
   "metadata": {},
   "outputs": [],
   "source": [
    "mne.set_log_level('WARNING')\n",
    "\n",
    "RAW_PATH = '/dhc/home/jannis.hajda/tuh-eeg-seizure-detection/data/raw'\n",
    "OUTPUT_PATH = '/dhc/home/jannis.hajda/tuh-eeg-seizure-detection/data/processed_fast'\n",
    "\n",
    "SAMPLING_FREQ = 250\n",
    "WINDOW_LENGTH = 21\n",
    "OVERLAP = 10.5 \n",
    "CONFIGURATIONS = [\"01_tcp_ar\"]\n",
    "CHANNELS = [\"EEG FP1-REF\", \"EEG FP2-REF\", \"EEG F7-REF\", \"EEG F3-REF\", \"EEG F4-REF\", \"EEG F8-REF\", \"EEG T3-REF\", \"EEG C3-REF\", \"EEG C4-REF\", \"EEG T4-REF\", \"EEG T5-REF\", \"EEG P3-REF\", \"EEG P4-REF\", \"EEG T6-REF\", \"EEG O1-REF\", \"EEG O2-REF\", \"EEG CZ-REF\", \"EEG A1-REF\", \"EEG A2-REF\"]"
   ]
  },
  {
   "cell_type": "code",
   "execution_count": 3,
   "id": "8fc1c25b",
   "metadata": {},
   "outputs": [],
   "source": [
    "def split_channels_to_hemispheres(channels: list):\n",
    "    left_hemisphere = []\n",
    "    right_hemisphere = []\n",
    "    \n",
    "    for channel in channels:\n",
    "        channel_number = re.search(r'\\d+', channel)\n",
    "        if channel_number is None:\n",
    "            continue\n",
    "        \n",
    "        if int(channel_number.group()) % 2 == 0:\n",
    "            right_hemisphere.append(channel)\n",
    "        else:\n",
    "            left_hemisphere.append(channel)\n",
    "    \n",
    "    return left_hemisphere, right_hemisphere\n",
    "\n",
    "LEFT_HEMISPHERE, RIGHT_HEMISPHERE = split_channels_to_hemispheres(CHANNELS) "
   ]
  },
  {
   "cell_type": "markdown",
   "id": "9e8a2863b3b35701",
   "metadata": {},
   "source": [
    "### load windows"
   ]
  },
  {
   "cell_type": "code",
   "execution_count": 4,
   "id": "dd2bb6bc05c75d53",
   "metadata": {},
   "outputs": [],
   "source": [
    "def extract_events_from_annotations(annotation_file):\n",
    "    with open(annotation_file, \"r\") as f:\n",
    "        annotations = f.readlines()\n",
    "        events = annotations[6:] \n",
    "        \n",
    "        data = []\n",
    "        for event in events:\n",
    "            parts = event.split(\",\")\n",
    "            \n",
    "            start = float(parts[1])\n",
    "            stop = float(parts[2])\n",
    "            label = parts[3]\n",
    "            \n",
    "            data.append({\n",
    "                \"label\": label,\n",
    "                \"start\": start,\n",
    "                \"stop\": stop,\n",
    "            })\n",
    "            \n",
    "    return pd.DataFrame(data)"
   ]
  },
  {
   "cell_type": "code",
   "execution_count": 5,
   "id": "13556c3b",
   "metadata": {},
   "outputs": [
    {
     "data": {
      "text/html": [
       "<div>\n",
       "<style scoped>\n",
       "    .dataframe tbody tr th:only-of-type {\n",
       "        vertical-align: middle;\n",
       "    }\n",
       "\n",
       "    .dataframe tbody tr th {\n",
       "        vertical-align: top;\n",
       "    }\n",
       "\n",
       "    .dataframe thead th {\n",
       "        text-align: right;\n",
       "    }\n",
       "</style>\n",
       "<table border=\"1\" class=\"dataframe\">\n",
       "  <thead>\n",
       "    <tr style=\"text-align: right;\">\n",
       "      <th></th>\n",
       "      <th>set</th>\n",
       "      <th>patient_id</th>\n",
       "      <th>session_id</th>\n",
       "      <th>configuration</th>\n",
       "      <th>recording_id</th>\n",
       "      <th>recording_path</th>\n",
       "      <th>event_index</th>\n",
       "      <th>start</th>\n",
       "      <th>stop</th>\n",
       "      <th>label</th>\n",
       "    </tr>\n",
       "  </thead>\n",
       "  <tbody>\n",
       "    <tr>\n",
       "      <th>0</th>\n",
       "      <td>train</td>\n",
       "      <td>aaaaaiui</td>\n",
       "      <td>s001_2009</td>\n",
       "      <td>01_tcp_ar</td>\n",
       "      <td>t001</td>\n",
       "      <td>/dhc/home/jannis.hajda/tuh-eeg-seizure-detecti...</td>\n",
       "      <td>0</td>\n",
       "      <td>0.0000</td>\n",
       "      <td>21.0000</td>\n",
       "      <td>bckg</td>\n",
       "    </tr>\n",
       "    <tr>\n",
       "      <th>1</th>\n",
       "      <td>train</td>\n",
       "      <td>aaaaaiui</td>\n",
       "      <td>s001_2009</td>\n",
       "      <td>01_tcp_ar</td>\n",
       "      <td>t001</td>\n",
       "      <td>/dhc/home/jannis.hajda/tuh-eeg-seizure-detecti...</td>\n",
       "      <td>0</td>\n",
       "      <td>10.5000</td>\n",
       "      <td>31.5000</td>\n",
       "      <td>bckg</td>\n",
       "    </tr>\n",
       "    <tr>\n",
       "      <th>2</th>\n",
       "      <td>train</td>\n",
       "      <td>aaaaaiui</td>\n",
       "      <td>s001_2009</td>\n",
       "      <td>01_tcp_ar</td>\n",
       "      <td>t001</td>\n",
       "      <td>/dhc/home/jannis.hajda/tuh-eeg-seizure-detecti...</td>\n",
       "      <td>0</td>\n",
       "      <td>21.0000</td>\n",
       "      <td>42.0000</td>\n",
       "      <td>bckg</td>\n",
       "    </tr>\n",
       "    <tr>\n",
       "      <th>3</th>\n",
       "      <td>train</td>\n",
       "      <td>aaaaaiui</td>\n",
       "      <td>s001_2009</td>\n",
       "      <td>01_tcp_ar</td>\n",
       "      <td>t001</td>\n",
       "      <td>/dhc/home/jannis.hajda/tuh-eeg-seizure-detecti...</td>\n",
       "      <td>0</td>\n",
       "      <td>31.5000</td>\n",
       "      <td>52.5000</td>\n",
       "      <td>bckg</td>\n",
       "    </tr>\n",
       "    <tr>\n",
       "      <th>4</th>\n",
       "      <td>train</td>\n",
       "      <td>aaaaaiui</td>\n",
       "      <td>s001_2009</td>\n",
       "      <td>01_tcp_ar</td>\n",
       "      <td>t001</td>\n",
       "      <td>/dhc/home/jannis.hajda/tuh-eeg-seizure-detecti...</td>\n",
       "      <td>0</td>\n",
       "      <td>42.0000</td>\n",
       "      <td>63.0000</td>\n",
       "      <td>bckg</td>\n",
       "    </tr>\n",
       "    <tr>\n",
       "      <th>...</th>\n",
       "      <td>...</td>\n",
       "      <td>...</td>\n",
       "      <td>...</td>\n",
       "      <td>...</td>\n",
       "      <td>...</td>\n",
       "      <td>...</td>\n",
       "      <td>...</td>\n",
       "      <td>...</td>\n",
       "      <td>...</td>\n",
       "      <td>...</td>\n",
       "    </tr>\n",
       "    <tr>\n",
       "      <th>153705</th>\n",
       "      <td>eval</td>\n",
       "      <td>aaaaaiih</td>\n",
       "      <td>s006_2015</td>\n",
       "      <td>01_tcp_ar</td>\n",
       "      <td>t001</td>\n",
       "      <td>/dhc/home/jannis.hajda/tuh-eeg-seizure-detecti...</td>\n",
       "      <td>0</td>\n",
       "      <td>490.0134</td>\n",
       "      <td>511.0134</td>\n",
       "      <td>seiz</td>\n",
       "    </tr>\n",
       "    <tr>\n",
       "      <th>153706</th>\n",
       "      <td>eval</td>\n",
       "      <td>aaaaaiih</td>\n",
       "      <td>s006_2015</td>\n",
       "      <td>01_tcp_ar</td>\n",
       "      <td>t001</td>\n",
       "      <td>/dhc/home/jannis.hajda/tuh-eeg-seizure-detecti...</td>\n",
       "      <td>0</td>\n",
       "      <td>500.5134</td>\n",
       "      <td>521.5134</td>\n",
       "      <td>seiz</td>\n",
       "    </tr>\n",
       "    <tr>\n",
       "      <th>153707</th>\n",
       "      <td>eval</td>\n",
       "      <td>aaaaaiih</td>\n",
       "      <td>s006_2015</td>\n",
       "      <td>01_tcp_ar</td>\n",
       "      <td>t001</td>\n",
       "      <td>/dhc/home/jannis.hajda/tuh-eeg-seizure-detecti...</td>\n",
       "      <td>0</td>\n",
       "      <td>511.0134</td>\n",
       "      <td>532.0134</td>\n",
       "      <td>seiz</td>\n",
       "    </tr>\n",
       "    <tr>\n",
       "      <th>153708</th>\n",
       "      <td>eval</td>\n",
       "      <td>aaaaaiih</td>\n",
       "      <td>s006_2015</td>\n",
       "      <td>01_tcp_ar</td>\n",
       "      <td>t001</td>\n",
       "      <td>/dhc/home/jannis.hajda/tuh-eeg-seizure-detecti...</td>\n",
       "      <td>0</td>\n",
       "      <td>521.5134</td>\n",
       "      <td>542.5134</td>\n",
       "      <td>seiz</td>\n",
       "    </tr>\n",
       "    <tr>\n",
       "      <th>153709</th>\n",
       "      <td>eval</td>\n",
       "      <td>aaaaaiih</td>\n",
       "      <td>s006_2015</td>\n",
       "      <td>01_tcp_ar</td>\n",
       "      <td>t001</td>\n",
       "      <td>/dhc/home/jannis.hajda/tuh-eeg-seizure-detecti...</td>\n",
       "      <td>0</td>\n",
       "      <td>532.0134</td>\n",
       "      <td>553.0134</td>\n",
       "      <td>seiz</td>\n",
       "    </tr>\n",
       "  </tbody>\n",
       "</table>\n",
       "<p>153710 rows × 10 columns</p>\n",
       "</div>"
      ],
      "text/plain": [
       "          set patient_id session_id configuration recording_id  \\\n",
       "0       train   aaaaaiui  s001_2009     01_tcp_ar         t001   \n",
       "1       train   aaaaaiui  s001_2009     01_tcp_ar         t001   \n",
       "2       train   aaaaaiui  s001_2009     01_tcp_ar         t001   \n",
       "3       train   aaaaaiui  s001_2009     01_tcp_ar         t001   \n",
       "4       train   aaaaaiui  s001_2009     01_tcp_ar         t001   \n",
       "...       ...        ...        ...           ...          ...   \n",
       "153705   eval   aaaaaiih  s006_2015     01_tcp_ar         t001   \n",
       "153706   eval   aaaaaiih  s006_2015     01_tcp_ar         t001   \n",
       "153707   eval   aaaaaiih  s006_2015     01_tcp_ar         t001   \n",
       "153708   eval   aaaaaiih  s006_2015     01_tcp_ar         t001   \n",
       "153709   eval   aaaaaiih  s006_2015     01_tcp_ar         t001   \n",
       "\n",
       "                                           recording_path  event_index  \\\n",
       "0       /dhc/home/jannis.hajda/tuh-eeg-seizure-detecti...            0   \n",
       "1       /dhc/home/jannis.hajda/tuh-eeg-seizure-detecti...            0   \n",
       "2       /dhc/home/jannis.hajda/tuh-eeg-seizure-detecti...            0   \n",
       "3       /dhc/home/jannis.hajda/tuh-eeg-seizure-detecti...            0   \n",
       "4       /dhc/home/jannis.hajda/tuh-eeg-seizure-detecti...            0   \n",
       "...                                                   ...          ...   \n",
       "153705  /dhc/home/jannis.hajda/tuh-eeg-seizure-detecti...            0   \n",
       "153706  /dhc/home/jannis.hajda/tuh-eeg-seizure-detecti...            0   \n",
       "153707  /dhc/home/jannis.hajda/tuh-eeg-seizure-detecti...            0   \n",
       "153708  /dhc/home/jannis.hajda/tuh-eeg-seizure-detecti...            0   \n",
       "153709  /dhc/home/jannis.hajda/tuh-eeg-seizure-detecti...            0   \n",
       "\n",
       "           start      stop label  \n",
       "0         0.0000   21.0000  bckg  \n",
       "1        10.5000   31.5000  bckg  \n",
       "2        21.0000   42.0000  bckg  \n",
       "3        31.5000   52.5000  bckg  \n",
       "4        42.0000   63.0000  bckg  \n",
       "...          ...       ...   ...  \n",
       "153705  490.0134  511.0134  seiz  \n",
       "153706  500.5134  521.5134  seiz  \n",
       "153707  511.0134  532.0134  seiz  \n",
       "153708  521.5134  542.5134  seiz  \n",
       "153709  532.0134  553.0134  seiz  \n",
       "\n",
       "[153710 rows x 10 columns]"
      ]
     },
     "execution_count": 5,
     "metadata": {},
     "output_type": "execute_result"
    }
   ],
   "source": [
    "def load_windows():\n",
    "    cols = [\"set\", \"patient_id\", \"session_id\", \"configuration\", \"recording_id\", \"recording_path\", \"event_index\", \"start\", \"stop\", \"label\"]\n",
    "    data = []\n",
    "    \n",
    "    edf_path = os.path.join(RAW_PATH, \"edf\")\n",
    "    \n",
    "    for root, _, files in os.walk(edf_path):\n",
    "        for file in files:\n",
    "            if not file.endswith(\".edf\"):\n",
    "                continue\n",
    "            \n",
    "            rel_path = os.path.relpath(root, edf_path)\n",
    "            parts = rel_path.split(\"/\")\n",
    "            \n",
    "            if len(parts) != 4:\n",
    "                continue\n",
    "        \n",
    "            set_name, patient_id, session_id, configuration = parts\n",
    "            \n",
    "            if configuration not in CONFIGURATIONS:\n",
    "                continue\n",
    "        \n",
    "            recording_path = os.path.join(root, file)\n",
    "            recording_id = file.replace(\".edf\", \"\").split(\"_\")[-1]\n",
    "            annotation_path = recording_path.replace(\".edf\", \".csv_bi\")\n",
    "            \n",
    "            if not os.path.exists(recording_path) or not os.path.exists(annotation_path):\n",
    "                continue\n",
    "            \n",
    "            events = extract_events_from_annotations(annotation_path)\n",
    "            \n",
    "            for i, event in events.iterrows():\n",
    "                start, stop, label = event.loc[[\"start\", \"stop\", \"label\"]]\n",
    "                duration = stop - start\n",
    "\n",
    "                if duration < WINDOW_LENGTH:\n",
    "                    continue\n",
    "\n",
    "                while start + WINDOW_LENGTH < stop:\n",
    "                    data.append({\n",
    "                        \"set\": set_name,\n",
    "                        \"patient_id\": patient_id,\n",
    "                        \"session_id\": session_id,\n",
    "                        \"configuration\": configuration,\n",
    "                        \"recording_id\": recording_id,\n",
    "                        \"recording_path\": recording_path,\n",
    "                        \"event_index\": i,\n",
    "                        \"start\": start,\n",
    "                        \"stop\": start + WINDOW_LENGTH,\n",
    "                        \"label\": label,\n",
    "                    })\n",
    "                    \n",
    "                    start += WINDOW_LENGTH - OVERLAP\n",
    "\n",
    "    return pd.DataFrame(data, columns=cols)\n",
    "\n",
    "windows = load_windows()\n",
    "windows "
   ]
  },
  {
   "cell_type": "code",
   "execution_count": 80,
   "id": "b7196e7c",
   "metadata": {},
   "outputs": [],
   "source": [
    "### undersample windows"
   ]
  },
  {
   "cell_type": "code",
   "execution_count": 6,
   "id": "d5af89e1",
   "metadata": {},
   "outputs": [
    {
     "name": "stdout",
     "output_type": "stream",
     "text": [
      "Seizure windows: 12421\n",
      "Background windows: 141289\n"
     ]
    }
   ],
   "source": [
    "seiz_windows = windows[windows[\"label\"] == \"seiz\"]\n",
    "bckg_windows = windows[windows[\"label\"] == \"bckg\"]\n",
    "\n",
    "print(\"Seizure windows:\", len(seiz_windows))\n",
    "print(\"Background windows:\", len(bckg_windows))"
   ]
  },
  {
   "cell_type": "code",
   "execution_count": 7,
   "id": "d23dd043",
   "metadata": {},
   "outputs": [],
   "source": [
    "# undersample majority class\n",
    "bckg_windows = bckg_windows.sample(n=len(seiz_windows), random_state=42)\n",
    "windows = pd.concat([seiz_windows, bckg_windows])"
   ]
  },
  {
   "cell_type": "markdown",
   "id": "5b37962864007a52",
   "metadata": {},
   "source": [
    "### feature extraction"
   ]
  },
  {
   "cell_type": "code",
   "execution_count": 8,
   "id": "b34342c03673a421",
   "metadata": {},
   "outputs": [],
   "source": [
    "def calc_coeffs_features(coeffs):\n",
    "    mean = np.mean(coeffs)\n",
    "    median = np.median(coeffs)\n",
    "    std = np.std(coeffs)\n",
    "    variance = np.var(coeffs)\n",
    "    skew = sp.stats.skew(coeffs)\n",
    "    kurtosis = sp.stats.kurtosis(coeffs)\n",
    "    rms = np.sqrt(np.mean(coeffs ** 2))\n",
    "    energy = np.sum(coeffs ** 2)\n",
    "    \n",
    "    return {\n",
    "        \"mean\": mean,\n",
    "        \"median\": median,\n",
    "        \"variance\": variance,\n",
    "        \"std\": std,\n",
    "        \"skew\": skew,\n",
    "        \"kurtosis\": kurtosis,\n",
    "        \"rms\": rms,\n",
    "        \"energy\": energy,\n",
    "    }\n",
    "    \n",
    "def extract_wavelet_features(channel_data: np.ndarray ) -> dict[str, float]:\n",
    "    a5, d5, d4, d3, d2, d1 = pywt.wavedec(channel_data, 'db4', level=5)\n",
    "    \n",
    "    wavelet_features = {f\"{coeff}_{stat}\": value \n",
    "                        for coeff, data in zip([\"a5\", \"d5\", \"d4\", \"d3\"], [a5, d5, d4, d3])\n",
    "                        for stat, value in calc_coeffs_features(data).items()}\n",
    "    \n",
    "    return wavelet_features"
   ]
  },
  {
   "cell_type": "code",
   "execution_count": 9,
   "id": "37cbbd7296b02baa",
   "metadata": {},
   "outputs": [],
   "source": [
    "def extract_band_power(channel_data, sfreq=SAMPLING_FREQ, n_fft=256) -> dict[str, float]:\n",
    "    frequency_bands = {\n",
    "        \"delta\": (0.5, 4),\n",
    "        \"theta\": (4, 7),\n",
    "        \"alpha\": (7, 12),\n",
    "        \"beta\": (12, 30),\n",
    "        \"gamma\": (30, 50)\n",
    "    }\n",
    "\n",
    "    band_powers = {}\n",
    "\n",
    "    n_fft = min(n_fft, sfreq)\n",
    "    psds, freqs = mne.time_frequency.psd_array_welch(channel_data, sfreq=sfreq, n_fft=n_fft, fmin=0.5, fmax=50)\n",
    "\n",
    "    # Calculate power within each frequency band\n",
    "    for band, (fmin, fmax) in frequency_bands.items():\n",
    "        # Find indices of frequencies within the band\n",
    "        band_indices = np.where((freqs >= fmin) & (freqs <= fmax))[0]\n",
    "\n",
    "        # Sum the power spectral density values within the band\n",
    "        band_power = np.sum(psds[band_indices])\n",
    "\n",
    "        band_powers[band] = band_power\n",
    "\n",
    "    return band_powers \n"
   ]
  },
  {
   "cell_type": "code",
   "execution_count": 10,
   "id": "a2e9161530113c14",
   "metadata": {},
   "outputs": [],
   "source": [
    "def calc_power_ratios(band_powers : dict[str, float]) -> dict[str, float]:\n",
    "    alpha_beta_ratio = band_powers[\"alpha\"] / band_powers[\"beta\"] if band_powers[\"beta\"] != 0 else np.nan\n",
    "    theta_beta_ratio = band_powers[\"theta\"] / band_powers[\"beta\"] if band_powers[\"beta\"] != 0 else np.nan\n",
    "    theta_alpha_beta_ratio = (band_powers[\"theta\"] + band_powers[\"alpha\"]) / band_powers[\"beta\"] if band_powers[\"beta\"] != 0 else np.nan\n",
    "    theta_alpha_beta_alpha_ratio = (band_powers[\"theta\"] + band_powers[\"alpha\"]) / (band_powers[\"beta\"] + band_powers[\"alpha\"]) if (band_powers[\"beta\"] + band_powers[\"alpha\"]) != 0 else np.nan\n",
    "    alpha_theta_ratio = band_powers[\"alpha\"] / band_powers[\"theta\"] if band_powers[\"theta\"] != 0 else np.nan\n",
    "    theta_alpha_ratio = band_powers[\"theta\"] / band_powers[\"alpha\"] if band_powers[\"alpha\"] != 0 else np.nan\n",
    "    \n",
    "    return {\n",
    "        \"alpha_beta_ratio\": alpha_beta_ratio,\n",
    "        \"theta_beta_ratio\": theta_beta_ratio,\n",
    "        \"theta_alpha_beta_ratio\": theta_alpha_beta_ratio,\n",
    "        \"theta_alpha_beta_alpha_ratio\": theta_alpha_beta_alpha_ratio,\n",
    "        \"alpha_theta_ratio\": alpha_theta_ratio,\n",
    "        \"theta_alpha_ratio\": theta_alpha_ratio\n",
    "    }"
   ]
  },
  {
   "cell_type": "code",
   "execution_count": 23,
   "id": "55a304d0cefaf89e",
   "metadata": {},
   "outputs": [],
   "source": [
    "def calc_avg_band_powers(band_powers):\n",
    "    avg_band_powers = {}    \n",
    "    bands = band_powers[0].keys()\n",
    "     \n",
    "    for band in bands:\n",
    "        avg_band_powers[band] = np.mean([channel[band] for channel in band_powers])\n",
    "        \n",
    "    return avg_band_powers"
   ]
  },
  {
   "cell_type": "code",
   "execution_count": 24,
   "id": "cb734f78e39421c3",
   "metadata": {},
   "outputs": [],
   "source": [
    "def calc_asymmetry(band_powers):\n",
    "    left_power = 0\n",
    "    right_power = 0\n",
    "    \n",
    "    for i, channel in enumerate(CHANNELS):\n",
    "        if channel in LEFT_HEMISPHERE:\n",
    "            powers = list(band_powers[i].values())\n",
    "            for power in powers:\n",
    "                left_power += power\n",
    "        elif channel in RIGHT_HEMISPHERE:\n",
    "            powers = list(band_powers[i].values())\n",
    "            for power in powers:\n",
    "                right_power += power\n",
    "            \n",
    "    left_power = np.log(left_power) if left_power != 0 else 0\n",
    "    right_power = np.log(right_power) if right_power != 0 else 0\n",
    "    \n",
    "    asymmetry = left_power - right_power\n",
    "    return asymmetry"
   ]
  },
  {
   "cell_type": "markdown",
   "id": "b9e6baf8",
   "metadata": {},
   "source": [
    "### preprocessing"
   ]
  },
  {
   "cell_type": "code",
   "execution_count": 25,
   "id": "f8cfbf75e5c37dc0",
   "metadata": {},
   "outputs": [],
   "source": [
    "def remove_powerline_noise(raw):\n",
    "    powerline_noises = [60]\n",
    "\n",
    "    for freq in powerline_noises:\n",
    "        raw.notch_filter(freqs=freq)\n",
    "\n",
    "    return raw"
   ]
  },
  {
   "cell_type": "code",
   "execution_count": 26,
   "id": "269b9602",
   "metadata": {},
   "outputs": [],
   "source": [
    "def butterworth_filter(raw):\n",
    "    iir_params = dict(order=4, ftype='butter')\n",
    "    raw.filter(0.5, 50, method='iir', iir_params=iir_params)\n",
    "    return raw"
   ]
  },
  {
   "cell_type": "code",
   "execution_count": 27,
   "id": "bc2a1cc0",
   "metadata": {},
   "outputs": [],
   "source": [
    "def min_max_normalization(data):\n",
    "    return (data - np.min(data)) / (np.max(data) - np.min(data))"
   ]
  },
  {
   "cell_type": "code",
   "execution_count": 28,
   "id": "7dac3aed",
   "metadata": {},
   "outputs": [],
   "source": [
    "def crop_raw_event(raw, start, stop):\n",
    "    \"\"\"Crops the raw data based on the onset and duration, handling edge cases.\"\"\"\n",
    "    if stop > raw.times[-1]:\n",
    "        if stop - 1 / raw.info[\"sfreq\"] == raw.times[-1]:\n",
    "            return raw.copy().crop(start, raw.times[-1], include_tmax=True), True\n",
    "        else:\n",
    "            return None, False\n",
    "    else:\n",
    "        return raw.copy().crop(start, stop, include_tmax=False), True"
   ]
  },
  {
   "cell_type": "markdown",
   "id": "f0d1e8e8",
   "metadata": {},
   "source": [
    "### process windows"
   ]
  },
  {
   "cell_type": "code",
   "execution_count": 32,
   "id": "61b8031f",
   "metadata": {},
   "outputs": [],
   "source": [
    "def process_windows(windows: pd.DataFrame):\n",
    "    corrupted = []\n",
    "    features = []\n",
    "\n",
    "    recordings = windows.groupby(\"recording_path\")\n",
    "    \n",
    "    for recording_path, recording in recordings:\n",
    "        raw_recording = mne.io.read_raw_edf(recording_path, preload=True).pick(picks=CHANNELS)\n",
    "        raw_recording.set_meas_date(None)\n",
    "\n",
    "        raw_recording = butterworth_filter(raw_recording)\n",
    "        raw_recording = remove_powerline_noise(raw_recording)\n",
    "        raw_recording = raw_recording.resample(SAMPLING_FREQ)\n",
    "\n",
    "        for _, window in recording.iterrows():\n",
    "            patient_id, session_id, recording_id, event_index, start, stop, label = window.loc[[\"patient_id\", \"session_id\", \"recording_id\", \"event_index\", \"start\", \"stop\", \"label\"]]\n",
    "\n",
    "            raw_window, success = crop_raw_event(raw_recording, start, stop)\n",
    "            if not success:\n",
    "                print(f\"Failed to crop event {event_index} in recording {recording_id} for patient {patient_id} and session {session_id}.\")\n",
    "                corrupted.append((patient_id, session_id, recording_id))\n",
    "                continue\n",
    "\n",
    "            channels = raw_window.info[\"ch_names\"]\n",
    "\n",
    "            window_features = {}\n",
    "\n",
    "            band_powers = {}\n",
    "\n",
    "            for i, channel in enumerate(channels):\n",
    "                channel_data, _ = raw_window[i]\n",
    "                channel_data = channel_data.flatten()\n",
    "                \n",
    "                channel_data = min_max_normalization(channel_data)\n",
    "\n",
    "                wavelet_features = extract_wavelet_features(channel_data)\n",
    "                for key, value in wavelet_features.items():\n",
    "                    window_features[f\"{channel}_{key}\"] = value\n",
    "\n",
    "                band_power = extract_band_power(channel_data)\n",
    "\n",
    "                band_powers[channel] = band_power\n",
    "\n",
    "            left_band_powers = [band_powers[channel] for channel in LEFT_HEMISPHERE]\n",
    "            right_band_powers = [band_powers[channel] for channel in RIGHT_HEMISPHERE]\n",
    "           \n",
    "            left_avg_band_powers = calc_avg_band_powers(left_band_powers)\n",
    "            right_avg_band_powers = calc_avg_band_powers(right_band_powers)\n",
    "\n",
    "            left_avg_band_powers = {f\"left_{key}\": value for key, value in left_avg_band_powers.items()}\n",
    "            right_avg_band_powers = {f\"right_{key}\": value for key, value in right_avg_band_powers.items()}\n",
    "            \n",
    "            #avg_band_powers = calc_avg_band_powers(band_powers.items())\n",
    "            #power_ratios = calc_power_ratios(avg_band_powers)\n",
    "            \n",
    "            #asymmetry = calc_asymmetry(band_powers)\n",
    "            \n",
    "            window_features.update({\n",
    "                \"patient_id\": patient_id,\n",
    "                #\"asymmetry\": asymmetry,\n",
    "                \"label\": label,\n",
    "            })\n",
    "            \n",
    "            window_features = {**window_features, **left_avg_band_powers, **right_avg_band_powers}\n",
    "            features.append(window_features)\n",
    "                \n",
    "            raw_window.close()\n",
    "            \n",
    "        raw_recording.close()\n",
    "        \n",
    "    return pd.DataFrame(features), corrupted"
   ]
  },
  {
   "cell_type": "code",
   "execution_count": 33,
   "id": "9703112b",
   "metadata": {},
   "outputs": [
    {
     "ename": "KeyError",
     "evalue": "0",
     "output_type": "error",
     "traceback": [
      "\u001b[0;31m---------------------------------------------------------------------------\u001b[0m",
      "\u001b[0;31mKeyError\u001b[0m                                  Traceback (most recent call last)",
      "Cell \u001b[0;32mIn[33], line 3\u001b[0m\n\u001b[1;32m      1\u001b[0m patient_ids \u001b[38;5;241m=\u001b[39m windows[\u001b[38;5;124m\"\u001b[39m\u001b[38;5;124mpatient_id\u001b[39m\u001b[38;5;124m\"\u001b[39m]\u001b[38;5;241m.\u001b[39munique()\n\u001b[1;32m      2\u001b[0m patient_windows \u001b[38;5;241m=\u001b[39m windows[windows[\u001b[38;5;124m\"\u001b[39m\u001b[38;5;124mpatient_id\u001b[39m\u001b[38;5;124m\"\u001b[39m] \u001b[38;5;241m==\u001b[39m patient_ids[\u001b[38;5;241m0\u001b[39m]]\n\u001b[0;32m----> 3\u001b[0m \u001b[43mprocess_windows\u001b[49m\u001b[43m(\u001b[49m\u001b[43mpatient_windows\u001b[49m\u001b[43m)\u001b[49m\n",
      "Cell \u001b[0;32mIn[32], line 56\u001b[0m, in \u001b[0;36mprocess_windows\u001b[0;34m(windows)\u001b[0m\n\u001b[1;32m     51\u001b[0m right_avg_band_powers \u001b[38;5;241m=\u001b[39m {\u001b[38;5;124mf\u001b[39m\u001b[38;5;124m\"\u001b[39m\u001b[38;5;124mright_\u001b[39m\u001b[38;5;132;01m{\u001b[39;00mkey\u001b[38;5;132;01m}\u001b[39;00m\u001b[38;5;124m\"\u001b[39m: value \u001b[38;5;28;01mfor\u001b[39;00m key, value \u001b[38;5;129;01min\u001b[39;00m right_avg_band_powers\u001b[38;5;241m.\u001b[39mitems()}\n\u001b[1;32m     53\u001b[0m \u001b[38;5;66;03m#avg_band_powers = calc_avg_band_powers(band_powers.items())\u001b[39;00m\n\u001b[1;32m     54\u001b[0m \u001b[38;5;66;03m#power_ratios = calc_power_ratios(avg_band_powers)\u001b[39;00m\n\u001b[0;32m---> 56\u001b[0m asymmetry \u001b[38;5;241m=\u001b[39m \u001b[43mcalc_asymmetry\u001b[49m\u001b[43m(\u001b[49m\u001b[43mband_powers\u001b[49m\u001b[43m)\u001b[49m\n\u001b[1;32m     58\u001b[0m window_features\u001b[38;5;241m.\u001b[39mupdate({\n\u001b[1;32m     59\u001b[0m     \u001b[38;5;124m\"\u001b[39m\u001b[38;5;124mpatient_id\u001b[39m\u001b[38;5;124m\"\u001b[39m: patient_id,\n\u001b[1;32m     60\u001b[0m     \u001b[38;5;124m\"\u001b[39m\u001b[38;5;124masymmetry\u001b[39m\u001b[38;5;124m\"\u001b[39m: asymmetry,\n\u001b[1;32m     61\u001b[0m     \u001b[38;5;124m\"\u001b[39m\u001b[38;5;124mlabel\u001b[39m\u001b[38;5;124m\"\u001b[39m: label,\n\u001b[1;32m     62\u001b[0m })\n\u001b[1;32m     64\u001b[0m window_features \u001b[38;5;241m=\u001b[39m {\u001b[38;5;241m*\u001b[39m\u001b[38;5;241m*\u001b[39mwindow_features, \u001b[38;5;241m*\u001b[39m\u001b[38;5;241m*\u001b[39mleft_avg_band_powers, \u001b[38;5;241m*\u001b[39m\u001b[38;5;241m*\u001b[39mright_avg_band_powers}\n",
      "Cell \u001b[0;32mIn[24], line 7\u001b[0m, in \u001b[0;36mcalc_asymmetry\u001b[0;34m(band_powers)\u001b[0m\n\u001b[1;32m      5\u001b[0m \u001b[38;5;28;01mfor\u001b[39;00m i, channel \u001b[38;5;129;01min\u001b[39;00m \u001b[38;5;28menumerate\u001b[39m(CHANNELS):\n\u001b[1;32m      6\u001b[0m     \u001b[38;5;28;01mif\u001b[39;00m channel \u001b[38;5;129;01min\u001b[39;00m LEFT_HEMISPHERE:\n\u001b[0;32m----> 7\u001b[0m         powers \u001b[38;5;241m=\u001b[39m \u001b[38;5;28mlist\u001b[39m(\u001b[43mband_powers\u001b[49m\u001b[43m[\u001b[49m\u001b[43mi\u001b[49m\u001b[43m]\u001b[49m\u001b[38;5;241m.\u001b[39mvalues())\n\u001b[1;32m      8\u001b[0m         \u001b[38;5;28;01mfor\u001b[39;00m power \u001b[38;5;129;01min\u001b[39;00m powers:\n\u001b[1;32m      9\u001b[0m             left_power \u001b[38;5;241m+\u001b[39m\u001b[38;5;241m=\u001b[39m power\n",
      "\u001b[0;31mKeyError\u001b[0m: 0"
     ]
    }
   ],
   "source": [
    "patient_ids = windows[\"patient_id\"].unique()\n",
    "patient_windows = windows[windows[\"patient_id\"] == patient_ids[0]]\n",
    "process_windows(patient_windows)"
   ]
  },
  {
   "cell_type": "code",
   "execution_count": 32,
   "id": "3a13acdf6d8fd02e",
   "metadata": {},
   "outputs": [
    {
     "name": "stderr",
     "output_type": "stream",
     "text": [
      "Processing patients:   0%|          | 0/357 [00:00<?, ?it/s]"
     ]
    },
    {
     "name": "stdout",
     "output_type": "stream",
     "text": [
      "Error processing patient aaaaapas: 0\n",
      "Error processing patient aaaaaovm: 0"
     ]
    },
    {
     "name": "stderr",
     "output_type": "stream",
     "text": [
      "Processing patients:   0%|          | 1/357 [00:02<15:57,  2.69s/it]"
     ]
    },
    {
     "name": "stdout",
     "output_type": "stream",
     "text": [
      "\n",
      "Error processing patient aaaaaqro: 0Error processing patient aaaaandx: 0Error processing patient aaaaamyy: 0\n",
      "Error processing patient aaaaagpk: 0\n",
      "\n",
      "Error processing patient aaaaakkm: 0\n",
      "\n"
     ]
    },
    {
     "name": "stderr",
     "output_type": "stream",
     "text": [
      "Processing patients:   1%|          | 3/357 [00:02<04:21,  1.35it/s]"
     ]
    },
    {
     "name": "stdout",
     "output_type": "stream",
     "text": [
      "Error processing patient aaaaaosc: 0\n",
      "Error processing patient aaaaatlp: 0Error processing patient aaaaaocy: 0\n"
     ]
    },
    {
     "name": "stderr",
     "output_type": "stream",
     "text": [
      "Processing patients:   3%|▎         | 9/357 [00:02<01:09,  5.01it/s]"
     ]
    },
    {
     "name": "stdout",
     "output_type": "stream",
     "text": [
      "\n",
      "Error processing patient aaaaacyf: 0Error processing patient aaaaabxe: 0\n",
      "\n",
      "Error processing patient aaaaaron: 0Error processing patient aaaaaajy: 0\n",
      "\n"
     ]
    },
    {
     "name": "stderr",
     "output_type": "stream",
     "text": [
      "Processing patients:   4%|▎         | 13/357 [00:03<00:43,  7.83it/s]"
     ]
    },
    {
     "name": "stdout",
     "output_type": "stream",
     "text": [
      "Error processing patient aaaaaqrs: 0\n",
      "Error processing patient aaaaaooy: 0\n"
     ]
    },
    {
     "name": "stderr",
     "output_type": "stream",
     "text": [
      "Processing patients:   4%|▍         | 16/357 [00:03<00:33, 10.05it/s]"
     ]
    },
    {
     "name": "stdout",
     "output_type": "stream",
     "text": [
      "Error processing patient aaaaaqkh: 0\n",
      "Error processing patient aaaaaasy: 0\n",
      "Error processing patient aaaaaltg: 0\n"
     ]
    },
    {
     "name": "stderr",
     "output_type": "stream",
     "text": [
      "Processing patients:   5%|▌         | 19/357 [00:03<00:34,  9.85it/s]"
     ]
    },
    {
     "name": "stdout",
     "output_type": "stream",
     "text": [
      "Error processing patient aaaaadsz: 0\n",
      "Error processing patient aaaaaqtl: 0\n",
      "Error processing patient aaaaanmh: 0\n",
      "Error processing patient aaaaampk: 0\n",
      "Error processing patient aaaaarqt: 0"
     ]
    },
    {
     "name": "stderr",
     "output_type": "stream",
     "text": [
      "Processing patients:   6%|▌         | 22/357 [00:03<00:27, 12.15it/s]"
     ]
    },
    {
     "name": "stdout",
     "output_type": "stream",
     "text": [
      "\n",
      "Error processing patient aaaaaoqf: 0\n",
      "Error processing patient aaaaaogk: 0"
     ]
    },
    {
     "name": "stderr",
     "output_type": "stream",
     "text": [
      "Processing patients:   7%|▋         | 25/357 [00:03<00:24, 13.56it/s]"
     ]
    },
    {
     "name": "stdout",
     "output_type": "stream",
     "text": [
      "Error processing patient aaaaaedy: 0\n",
      "\n",
      "Error processing patient aaaaaoya: 0Error processing patient aaaaaosa: 0\n",
      "Error processing patient aaaaaroo: 0\n",
      "\n"
     ]
    },
    {
     "name": "stderr",
     "output_type": "stream",
     "text": [
      "Processing patients:   8%|▊         | 29/357 [00:03<00:19, 17.13it/s]"
     ]
    },
    {
     "name": "stdout",
     "output_type": "stream",
     "text": [
      "Error processing patient aaaaaqtx: 0\n",
      "Error processing patient aaaaarqh: 0\n"
     ]
    },
    {
     "name": "stderr",
     "output_type": "stream",
     "text": [
      "Processing patients:   9%|▉         | 32/357 [00:04<00:21, 15.45it/s]"
     ]
    },
    {
     "name": "stdout",
     "output_type": "stream",
     "text": [
      "Error processing patient aaaaajnw: 0\n",
      "Error processing patient aaaaaoiz: 0\n",
      "Error processing patient aaaaatvr: 0Error processing patient aaaaatds: 0\n",
      "\n"
     ]
    },
    {
     "name": "stderr",
     "output_type": "stream",
     "text": [
      "Processing patients:  10%|▉         | 35/357 [00:04<00:25, 12.86it/s]"
     ]
    },
    {
     "name": "stdout",
     "output_type": "stream",
     "text": [
      "Error processing patient aaaaanwk: 0\n"
     ]
    },
    {
     "name": "stderr",
     "output_type": "stream",
     "text": [
      "Processing patients:  10%|█         | 37/357 [00:04<00:23, 13.72it/s]"
     ]
    },
    {
     "name": "stdout",
     "output_type": "stream",
     "text": [
      "Error processing patient aaaaamnd: 0\n",
      "Error processing patient aaaaatdt: 0\n"
     ]
    },
    {
     "name": "stderr",
     "output_type": "stream",
     "text": [
      "Processing patients:  11%|█         | 39/357 [00:04<00:26, 12.06it/s]"
     ]
    },
    {
     "name": "stdout",
     "output_type": "stream",
     "text": [
      "Error processing patient aaaaaghb: 0Error processing patient aaaaalpn: 0\n",
      "\n",
      "Error processing patient aaaaapxw: 0"
     ]
    },
    {
     "name": "stderr",
     "output_type": "stream",
     "text": [
      "Processing patients:  11%|█▏        | 41/357 [00:05<00:28, 11.25it/s]"
     ]
    },
    {
     "name": "stdout",
     "output_type": "stream",
     "text": [
      "\n",
      "Error processing patient aaaaaoxa: 0\n"
     ]
    },
    {
     "name": "stderr",
     "output_type": "stream",
     "text": [
      "Processing patients:  12%|█▏        | 43/357 [00:05<00:31,  9.87it/s]"
     ]
    },
    {
     "name": "stdout",
     "output_type": "stream",
     "text": [
      "Error processing patient aaaaabiw: 0\n",
      "Error processing patient aaaaaovn: 0\n",
      "Error processing patient aaaaarei: 0\n"
     ]
    },
    {
     "name": "stderr",
     "output_type": "stream",
     "text": [
      "Processing patients:  13%|█▎        | 45/357 [00:05<00:36,  8.59it/s]"
     ]
    },
    {
     "name": "stdout",
     "output_type": "stream",
     "text": [
      "Error processing patient aaaaankc: 0\n",
      "Error processing patient aaaaaelb: 0Error processing patient aaaaaouk: 0\n",
      "Error processing patient aaaaajoe: 0\n"
     ]
    },
    {
     "name": "stderr",
     "output_type": "stream",
     "text": [
      "Processing patients:  13%|█▎        | 48/357 [00:05<00:36,  8.58it/s]"
     ]
    },
    {
     "name": "stdout",
     "output_type": "stream",
     "text": [
      "\n",
      "Error processing patient aaaaaoek: 0\n"
     ]
    },
    {
     "name": "stderr",
     "output_type": "stream",
     "text": [
      "Processing patients:  14%|█▍        | 51/357 [00:06<00:27, 11.08it/s]"
     ]
    },
    {
     "name": "stdout",
     "output_type": "stream",
     "text": [
      "Error processing patient aaaaammu: 0\n",
      "Error processing patient aaaaajsl: 0\n"
     ]
    },
    {
     "name": "stderr",
     "output_type": "stream",
     "text": [
      "Processing patients:  15%|█▍        | 53/357 [00:06<00:40,  7.56it/s]"
     ]
    },
    {
     "name": "stdout",
     "output_type": "stream",
     "text": [
      "Error processing patient aaaaatba: 0\n",
      "Error processing patient aaaaaror: 0\n"
     ]
    },
    {
     "name": "stderr",
     "output_type": "stream",
     "text": [
      "Processing patients:  15%|█▌        | 55/357 [00:06<00:34,  8.79it/s]"
     ]
    },
    {
     "name": "stdout",
     "output_type": "stream",
     "text": [
      "Error processing patient aaaaapks: 0Error processing patient aaaaaqtq: 0\n",
      "\n",
      "Error processing patient aaaaasjh: 0Error processing patient aaaaaoys: 0\n",
      "\n"
     ]
    },
    {
     "name": "stderr",
     "output_type": "stream",
     "text": [
      "Processing patients:  16%|█▌        | 58/357 [00:07<00:31,  9.48it/s]"
     ]
    },
    {
     "name": "stdout",
     "output_type": "stream",
     "text": [
      "Error processing patient aaaaarso: 0\n",
      "Error processing patient aaaaanrc: 0\n",
      "Error processing patient aaaaaijh: 0"
     ]
    },
    {
     "name": "stderr",
     "output_type": "stream",
     "text": [
      "Processing patients:  17%|█▋        | 61/357 [00:07<00:24, 12.14it/s]"
     ]
    },
    {
     "name": "stdout",
     "output_type": "stream",
     "text": [
      "\n",
      "Error processing patient aaaaaqjn: 0\n",
      "Error processing patient aaaaamoa: 0Error processing patient aaaaambs: 0"
     ]
    },
    {
     "name": "stderr",
     "output_type": "stream",
     "text": [
      "Processing patients:  18%|█▊        | 63/357 [00:07<00:22, 12.85it/s]"
     ]
    },
    {
     "name": "stdout",
     "output_type": "stream",
     "text": [
      "\n",
      "\n",
      "Error processing patient aaaaanjw: 0\n"
     ]
    },
    {
     "name": "stderr",
     "output_type": "stream",
     "text": [
      "Processing patients:  18%|█▊        | 66/357 [00:07<00:18, 15.96it/s]"
     ]
    },
    {
     "name": "stdout",
     "output_type": "stream",
     "text": [
      "Error processing patient aaaaamck: 0Error processing patient aaaaaqbt: 0\n",
      "\n",
      "Error processing patient aaaaaswt: 0Error processing patient aaaaaizb: 0\n",
      "\n"
     ]
    },
    {
     "name": "stderr",
     "output_type": "stream",
     "text": [
      "Processing patients:  19%|█▉        | 69/357 [00:07<00:16, 17.03it/s]"
     ]
    },
    {
     "name": "stdout",
     "output_type": "stream",
     "text": [
      "Error processing patient aaaaarpv: 0\n",
      "Error processing patient aaaaamiz: 0Error processing patient aaaaatao: 0\n",
      "\n",
      "Error processing patient aaaaaarq: 0"
     ]
    },
    {
     "name": "stderr",
     "output_type": "stream",
     "text": [
      "Processing patients:  20%|██        | 73/357 [00:07<00:13, 21.01it/s]"
     ]
    },
    {
     "name": "stdout",
     "output_type": "stream",
     "text": [
      "\n",
      "Error processing patient aaaaarcs: 0Error processing patient aaaaalzg: 0\n",
      "\n",
      "Error processing patient aaaaaayg: 0"
     ]
    },
    {
     "name": "stderr",
     "output_type": "stream",
     "text": [
      "Processing patients:  21%|██▏       | 76/357 [00:07<00:14, 20.05it/s]"
     ]
    },
    {
     "name": "stdout",
     "output_type": "stream",
     "text": [
      "\n",
      "Error processing patient aaaaaiat: 0\n",
      "Error processing patient aaaaamoq: 0\n",
      "Error processing patient aaaaapcr: 0"
     ]
    },
    {
     "name": "stderr",
     "output_type": "stream",
     "text": [
      "Processing patients:  22%|██▏       | 79/357 [00:07<00:13, 20.44it/s]"
     ]
    },
    {
     "name": "stdout",
     "output_type": "stream",
     "text": [
      "\n",
      "Error processing patient aaaaakbz: 0\n",
      "Error processing patient aaaaaict: 0Error processing patient aaaaalak: 0\n",
      "\n"
     ]
    },
    {
     "name": "stderr",
     "output_type": "stream",
     "text": [
      "Processing patients:  23%|██▎       | 82/357 [00:08<00:13, 21.02it/s]"
     ]
    },
    {
     "name": "stdout",
     "output_type": "stream",
     "text": [
      "Error processing patient aaaaahsi: 0\n",
      "Error processing patient aaaaamyc: 0Error processing patient aaaaanoa: 0\n",
      "Error processing patient aaaaalnt: 0Error processing patient aaaaatjr: 0\n"
     ]
    },
    {
     "name": "stderr",
     "output_type": "stream",
     "text": [
      "Processing patients:  24%|██▍       | 85/357 [00:08<00:17, 15.35it/s]"
     ]
    },
    {
     "name": "stdout",
     "output_type": "stream",
     "text": [
      "\n",
      "\n",
      "Error processing patient aaaaaooo: 0\n"
     ]
    },
    {
     "name": "stderr",
     "output_type": "stream",
     "text": [
      "Processing patients:  25%|██▍       | 89/357 [00:08<00:13, 19.27it/s]"
     ]
    },
    {
     "name": "stdout",
     "output_type": "stream",
     "text": [
      "Error processing patient aaaaanog: 0Error processing patient aaaaaegi: 0\n",
      "\n",
      "Error processing patient aaaaakis: 0Error processing patient aaaaaprf: 0Error processing patient aaaaaqtw: 0\n",
      "\n",
      "\n",
      "Error processing patient aaaaalnv: 0"
     ]
    },
    {
     "name": "stderr",
     "output_type": "stream",
     "text": [
      "Processing patients:  26%|██▌       | 92/357 [00:08<00:12, 20.48it/s]"
     ]
    },
    {
     "name": "stdout",
     "output_type": "stream",
     "text": [
      "\n",
      "Error processing patient aaaaapon: 0Error processing patient aaaaasfw: 0\n",
      "\n",
      "Error processing patient aaaaajdn: 0"
     ]
    },
    {
     "name": "stderr",
     "output_type": "stream",
     "text": [
      "Processing patients:  27%|██▋       | 96/357 [00:08<00:10, 24.01it/s]"
     ]
    },
    {
     "name": "stdout",
     "output_type": "stream",
     "text": [
      "\n",
      "Error processing patient aaaaapnl: 0\n",
      "Error processing patient aaaaajat: 0\n",
      "Error processing patient aaaaamod: 0\n"
     ]
    },
    {
     "name": "stderr",
     "output_type": "stream",
     "text": [
      "Processing patients:  28%|██▊       | 100/357 [00:09<00:14, 18.35it/s]"
     ]
    },
    {
     "name": "stdout",
     "output_type": "stream",
     "text": [
      "Error processing patient aaaaamtj: 0\n",
      "Error processing patient aaaaantp: 0\n"
     ]
    },
    {
     "name": "stderr",
     "output_type": "stream",
     "text": [
      "Processing patients:  29%|██▉       | 103/357 [00:09<00:15, 15.91it/s]"
     ]
    },
    {
     "name": "stdout",
     "output_type": "stream",
     "text": [
      "Error processing patient aaaaajru: 0\n",
      "Error processing patient aaaaamww: 0\n"
     ]
    },
    {
     "name": "stderr",
     "output_type": "stream",
     "text": [
      "Processing patients:  29%|██▉       | 105/357 [00:09<00:16, 14.88it/s]"
     ]
    },
    {
     "name": "stdout",
     "output_type": "stream",
     "text": [
      "Error processing patient aaaaaoee: 0\n",
      "Error processing patient aaaaalfs: 0Error processing patient aaaaaoxr: 0Error processing patient aaaaaint: 0\n",
      "\n"
     ]
    },
    {
     "name": "stderr",
     "output_type": "stream",
     "text": [
      "Processing patients:  30%|██▉       | 107/357 [00:09<00:16, 15.13it/s]"
     ]
    },
    {
     "name": "stdout",
     "output_type": "stream",
     "text": [
      "\n"
     ]
    },
    {
     "ename": "KeyboardInterrupt",
     "evalue": "",
     "output_type": "error",
     "traceback": [
      "\u001b[0;31m---------------------------------------------------------------------------\u001b[0m",
      "\u001b[0;31mKeyboardInterrupt\u001b[0m                         Traceback (most recent call last)",
      "Cell \u001b[0;32mIn[32], line 70\u001b[0m\n\u001b[1;32m     67\u001b[0m     \u001b[38;5;28;01melse\u001b[39;00m:\n\u001b[1;32m     68\u001b[0m         \u001b[38;5;28;01mreturn\u001b[39;00m pd\u001b[38;5;241m.\u001b[39mDataFrame()\n\u001b[0;32m---> 70\u001b[0m features \u001b[38;5;241m=\u001b[39m \u001b[43mprocess_windows_parallel\u001b[49m\u001b[43m(\u001b[49m\u001b[43mwindows\u001b[49m\u001b[43m)\u001b[49m\n",
      "Cell \u001b[0;32mIn[32], line 52\u001b[0m, in \u001b[0;36mprocess_windows_parallel\u001b[0;34m(windows, num_processes)\u001b[0m\n\u001b[1;32m     49\u001b[0m     results\u001b[38;5;241m.\u001b[39mappend(result)\n\u001b[1;32m     51\u001b[0m pool\u001b[38;5;241m.\u001b[39mclose()\n\u001b[0;32m---> 52\u001b[0m \u001b[43mpool\u001b[49m\u001b[38;5;241;43m.\u001b[39;49m\u001b[43mjoin\u001b[49m\u001b[43m(\u001b[49m\u001b[43m)\u001b[49m\n\u001b[1;32m     54\u001b[0m queue\u001b[38;5;241m.\u001b[39mput(\u001b[38;5;28;01mNone\u001b[39;00m) \n\u001b[1;32m     55\u001b[0m listener_process\u001b[38;5;241m.\u001b[39mjoin()\n",
      "File \u001b[0;32m~/conda3/envs/ba/lib/python3.12/multiprocessing/pool.py:665\u001b[0m, in \u001b[0;36mPool.join\u001b[0;34m(self)\u001b[0m\n\u001b[1;32m    663\u001b[0m \u001b[38;5;28;01melif\u001b[39;00m \u001b[38;5;28mself\u001b[39m\u001b[38;5;241m.\u001b[39m_state \u001b[38;5;129;01mnot\u001b[39;00m \u001b[38;5;129;01min\u001b[39;00m (CLOSE, TERMINATE):\n\u001b[1;32m    664\u001b[0m     \u001b[38;5;28;01mraise\u001b[39;00m \u001b[38;5;167;01mValueError\u001b[39;00m(\u001b[38;5;124m\"\u001b[39m\u001b[38;5;124mIn unknown state\u001b[39m\u001b[38;5;124m\"\u001b[39m)\n\u001b[0;32m--> 665\u001b[0m \u001b[38;5;28;43mself\u001b[39;49m\u001b[38;5;241;43m.\u001b[39;49m\u001b[43m_worker_handler\u001b[49m\u001b[38;5;241;43m.\u001b[39;49m\u001b[43mjoin\u001b[49m\u001b[43m(\u001b[49m\u001b[43m)\u001b[49m\n\u001b[1;32m    666\u001b[0m \u001b[38;5;28mself\u001b[39m\u001b[38;5;241m.\u001b[39m_task_handler\u001b[38;5;241m.\u001b[39mjoin()\n\u001b[1;32m    667\u001b[0m \u001b[38;5;28mself\u001b[39m\u001b[38;5;241m.\u001b[39m_result_handler\u001b[38;5;241m.\u001b[39mjoin()\n",
      "File \u001b[0;32m~/conda3/envs/ba/lib/python3.12/threading.py:1147\u001b[0m, in \u001b[0;36mThread.join\u001b[0;34m(self, timeout)\u001b[0m\n\u001b[1;32m   1144\u001b[0m     \u001b[38;5;28;01mraise\u001b[39;00m \u001b[38;5;167;01mRuntimeError\u001b[39;00m(\u001b[38;5;124m\"\u001b[39m\u001b[38;5;124mcannot join current thread\u001b[39m\u001b[38;5;124m\"\u001b[39m)\n\u001b[1;32m   1146\u001b[0m \u001b[38;5;28;01mif\u001b[39;00m timeout \u001b[38;5;129;01mis\u001b[39;00m \u001b[38;5;28;01mNone\u001b[39;00m:\n\u001b[0;32m-> 1147\u001b[0m     \u001b[38;5;28;43mself\u001b[39;49m\u001b[38;5;241;43m.\u001b[39;49m\u001b[43m_wait_for_tstate_lock\u001b[49m\u001b[43m(\u001b[49m\u001b[43m)\u001b[49m\n\u001b[1;32m   1148\u001b[0m \u001b[38;5;28;01melse\u001b[39;00m:\n\u001b[1;32m   1149\u001b[0m     \u001b[38;5;66;03m# the behavior of a negative timeout isn't documented, but\u001b[39;00m\n\u001b[1;32m   1150\u001b[0m     \u001b[38;5;66;03m# historically .join(timeout=x) for x<0 has acted as if timeout=0\u001b[39;00m\n\u001b[1;32m   1151\u001b[0m     \u001b[38;5;28mself\u001b[39m\u001b[38;5;241m.\u001b[39m_wait_for_tstate_lock(timeout\u001b[38;5;241m=\u001b[39m\u001b[38;5;28mmax\u001b[39m(timeout, \u001b[38;5;241m0\u001b[39m))\n",
      "File \u001b[0;32m~/conda3/envs/ba/lib/python3.12/threading.py:1167\u001b[0m, in \u001b[0;36mThread._wait_for_tstate_lock\u001b[0;34m(self, block, timeout)\u001b[0m\n\u001b[1;32m   1164\u001b[0m     \u001b[38;5;28;01mreturn\u001b[39;00m\n\u001b[1;32m   1166\u001b[0m \u001b[38;5;28;01mtry\u001b[39;00m:\n\u001b[0;32m-> 1167\u001b[0m     \u001b[38;5;28;01mif\u001b[39;00m \u001b[43mlock\u001b[49m\u001b[38;5;241;43m.\u001b[39;49m\u001b[43macquire\u001b[49m\u001b[43m(\u001b[49m\u001b[43mblock\u001b[49m\u001b[43m,\u001b[49m\u001b[43m \u001b[49m\u001b[43mtimeout\u001b[49m\u001b[43m)\u001b[49m:\n\u001b[1;32m   1168\u001b[0m         lock\u001b[38;5;241m.\u001b[39mrelease()\n\u001b[1;32m   1169\u001b[0m         \u001b[38;5;28mself\u001b[39m\u001b[38;5;241m.\u001b[39m_stop()\n",
      "\u001b[0;31mKeyboardInterrupt\u001b[0m: "
     ]
    },
    {
     "name": "stderr",
     "output_type": "stream",
     "text": [
      "Processing patients:  31%|███       | 109/357 [00:20<00:16, 15.13it/s]"
     ]
    }
   ],
   "source": [
    "import multiprocessing as mp\n",
    "from tqdm import tqdm\n",
    "\n",
    "def process_patient_windows(patient_windows):\n",
    "    patient_id = patient_windows[\"patient_id\"].iloc[0]\n",
    "    \n",
    "    try:\n",
    "        features, corrupted = process_windows(patient_windows)\n",
    "\n",
    "        if patient_windows.shape[0] != features.shape[0]:\n",
    "            print(f\"Window mismatch for patient {patient_id}\")\n",
    "\n",
    "        if corrupted:\n",
    "            print(f\"Corrupted patient {patient_id}\")\n",
    "\n",
    "        return patient_id, features, corrupted\n",
    "    except Exception as e:\n",
    "        print(f\"Error processing patient {patient_id}: {e}\")\n",
    "        return patient_id, None, None\n",
    "\n",
    "def process_windows_parallel(windows, num_processes=None):\n",
    "    patient_ids = windows[\"patient_id\"].unique()\n",
    "    \n",
    "    if num_processes is None:\n",
    "        num_processes = mp.cpu_count()\n",
    "\n",
    "    manager = mp.Manager()\n",
    "    queue = manager.Queue()\n",
    "    \n",
    "    def update_progress(result):\n",
    "        queue.put(1)\n",
    "    \n",
    "    def listener(q, total):\n",
    "        pbar = tqdm(total=total, desc=\"Processing patients\")\n",
    "        for _ in range(total):\n",
    "            q.get()\n",
    "            pbar.update()\n",
    "        pbar.close()\n",
    "    \n",
    "    with mp.Pool(num_processes) as pool:\n",
    "        results = []\n",
    "        \n",
    "        listener_process = mp.Process(target=listener, args=(queue, len(patient_ids)))\n",
    "        listener_process.start()\n",
    "        \n",
    "        for patient_id in patient_ids:\n",
    "            patient_windows = windows[windows[\"patient_id\"] == patient_id]\n",
    "            result = pool.apply_async(process_patient_windows, args=(patient_windows,), callback=update_progress)\n",
    "            results.append(result)\n",
    "        \n",
    "        pool.close()\n",
    "        pool.join()\n",
    "        \n",
    "        queue.put(None) \n",
    "        listener_process.join()\n",
    "\n",
    "        processed_results = [result.get() for result in results]\n",
    "    \n",
    "    all_features = []\n",
    "    for patient_id, features, corrupted in processed_results:\n",
    "        if features is not None:\n",
    "            all_features.append(features)\n",
    "\n",
    "    if all_features:\n",
    "        aggregated_features = pd.concat(all_features, ignore_index=True)\n",
    "        return aggregated_features\n",
    "    else:\n",
    "        return pd.DataFrame()\n",
    "   \n",
    "features = process_windows_parallel(windows)\n"
   ]
  },
  {
   "cell_type": "code",
   "execution_count": 30,
   "id": "e0054760",
   "metadata": {},
   "outputs": [],
   "source": [
    "features.to_csv(\"data/processed/windows_21_10_balanced_avg_energy.csv\", index=False)"
   ]
  },
  {
   "cell_type": "code",
   "execution_count": null,
   "id": "68053156",
   "metadata": {},
   "outputs": [],
   "source": []
  }
 ],
 "metadata": {
  "kernelspec": {
   "display_name": "Python 3 (ipykernel)",
   "language": "python",
   "name": "python3"
  },
  "language_info": {
   "codemirror_mode": {
    "name": "ipython",
    "version": 3
   },
   "file_extension": ".py",
   "mimetype": "text/x-python",
   "name": "python",
   "nbconvert_exporter": "python",
   "pygments_lexer": "ipython3",
   "version": "3.12.2"
  }
 },
 "nbformat": 4,
 "nbformat_minor": 5
}
