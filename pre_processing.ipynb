{
 "cells": [
  {
   "cell_type": "markdown",
   "id": "599a272864cdf9e2",
   "metadata": {},
   "source": [
    "# Pre-processing pipeline"
   ]
  },
  {
   "cell_type": "code",
   "execution_count": null,
   "id": "ddad884de149379",
   "metadata": {},
   "outputs": [],
   "source": [
    "import mne\n",
    "import pandas as pd\n",
    "import os\n",
    "import numpy as np\n",
    "import re\n",
    "import xarray as xr\n",
    "import multiprocessing as mp\n",
    "from tqdm import tqdm\n",
    "import yaml\n",
    "from config import get_preprocessing_config\n",
    "import matplotlib.pyplot as plt"
   ]
  },
  {
   "cell_type": "markdown",
   "id": "c52a548a065ad8e1",
   "metadata": {},
   "source": [
    "### configuration setup"
   ]
  },
  {
   "cell_type": "code",
   "execution_count": null,
   "id": "30881417",
   "metadata": {},
   "outputs": [],
   "source": [
    "mne.set_log_level('WARNING')"
   ]
  },
  {
   "cell_type": "code",
   "execution_count": null,
   "id": "58fa827c8a95fe39",
   "metadata": {},
   "outputs": [],
   "source": [
    "conf = get_preprocessing_config()\n",
    "\n",
    "RAW_PATH = conf[\"input_path\"]\n",
    "OUTPUT_FILE = conf[\"output_file\"]\n",
    "\n",
    "SAMPLING_FREQ = conf[\"sampling_frequency\"]\n",
    "WINDOW_LENGTH = conf[\"window_length\"] \n",
    "OVERLAP = conf[\"overlap\"] \n",
    "CONFIGURATIONS = conf[\"configurations\"]\n",
    "CHANNELS = conf[\"channels\"]"
   ]
  },
  {
   "cell_type": "code",
   "execution_count": null,
   "id": "d27ce0d3",
   "metadata": {},
   "outputs": [],
   "source": [
    "WINDOW_LENGTH = 30\n",
    "OVERLAP = 15"
   ]
  },
  {
   "cell_type": "markdown",
   "id": "9e8a2863b3b35701",
   "metadata": {},
   "source": [
    "### load windows"
   ]
  },
  {
   "cell_type": "code",
   "execution_count": null,
   "id": "dd2bb6bc05c75d53",
   "metadata": {},
   "outputs": [],
   "source": [
    "def extract_events_from_annotations(annotation_file):\n",
    "    with open(annotation_file, \"r\") as f:\n",
    "        annotations = f.readlines()\n",
    "        events = annotations[6:] \n",
    "        \n",
    "        data = []\n",
    "        for event in events:\n",
    "            parts = event.split(\",\")\n",
    "            \n",
    "            start = float(parts[1])\n",
    "            stop = float(parts[2])\n",
    "\n",
    "            label = parts[3]\n",
    "            label_map = {\"bckg\": 0, \"seiz\": 1}\n",
    "            label = label_map[label]\n",
    "            \n",
    "            data.append({\n",
    "                \"label\": label,\n",
    "                \"start\": start,\n",
    "                \"stop\": stop,\n",
    "            })\n",
    "            \n",
    "    return pd.DataFrame(data)"
   ]
  },
  {
   "cell_type": "code",
   "execution_count": null,
   "id": "13556c3b",
   "metadata": {},
   "outputs": [],
   "source": [
    "def load_windows():\n",
    "    cols = [\"set\", \"patient_id\", \"session_id\", \"configuration\", \"recording_id\", \"recording_path\", \"event_index\", \"start\", \"stop\", \"label\"]\n",
    "    data = []\n",
    "    \n",
    "    edf_path = os.path.join(RAW_PATH, \"edf\")\n",
    "    \n",
    "    for root, _, files in os.walk(edf_path):\n",
    "        for file in files:\n",
    "            if not file.endswith(\".edf\"):\n",
    "                continue\n",
    "            \n",
    "            rel_path = os.path.relpath(root, edf_path)\n",
    "            parts = rel_path.split(\"/\")\n",
    "            \n",
    "            if len(parts) != 4:\n",
    "                continue\n",
    "        \n",
    "            set_name, patient_id, session_id, configuration = parts\n",
    "            \n",
    "            if configuration not in CONFIGURATIONS:\n",
    "                continue\n",
    "        \n",
    "            recording_path = os.path.join(root, file)\n",
    "            recording_id = file.replace(\".edf\", \"\").split(\"_\")[-1]\n",
    "            annotation_path = recording_path.replace(\".edf\", \".csv_bi\")\n",
    "            \n",
    "            if not os.path.exists(recording_path) or not os.path.exists(annotation_path):\n",
    "                continue\n",
    "            \n",
    "            events = extract_events_from_annotations(annotation_path)\n",
    "            \n",
    "            for i, event in events.iterrows():\n",
    "                start, stop, label = event.loc[[\"start\", \"stop\", \"label\"]]\n",
    "                label = int(label)\n",
    "                duration = stop - start\n",
    "\n",
    "                if duration < WINDOW_LENGTH:\n",
    "                    continue\n",
    "\n",
    "                while start + WINDOW_LENGTH < stop:\n",
    "                    data.append({\n",
    "                        \"set\": set_name,\n",
    "                        \"patient_id\": patient_id,\n",
    "                        \"session_id\": session_id,\n",
    "                        \"configuration\": configuration,\n",
    "                        \"recording_id\": recording_id,\n",
    "                        \"recording_path\": recording_path,\n",
    "                        \"event_index\": i,\n",
    "                        \"start\": start,\n",
    "                        \"stop\": start + WINDOW_LENGTH,\n",
    "                        \"label\": label,\n",
    "                    })\n",
    "                    \n",
    "                    start += WINDOW_LENGTH - OVERLAP\n",
    "\n",
    "    return pd.DataFrame(data, columns=cols)"
   ]
  },
  {
   "cell_type": "code",
   "execution_count": null,
   "id": "76d59ae2",
   "metadata": {},
   "outputs": [],
   "source": [
    "windows = load_windows()\n",
    "windows "
   ]
  },
  {
   "cell_type": "markdown",
   "id": "b7196e7c",
   "metadata": {},
   "source": [
    "### undersample majority class"
   ]
  },
  {
   "cell_type": "code",
   "execution_count": null,
   "id": "d5af89e1",
   "metadata": {},
   "outputs": [],
   "source": [
    "bckg_windows = windows[windows[\"label\"] == 0]\n",
    "seiz_windows = windows[windows[\"label\"] == 1]\n",
    "\n",
    "print(\"Seizure windows:\", len(seiz_windows))\n",
    "print(\"Background windows:\", len(bckg_windows))"
   ]
  },
  {
   "cell_type": "code",
   "execution_count": null,
   "id": "d23dd043",
   "metadata": {},
   "outputs": [],
   "source": [
    "if len(bckg_windows) > len(seiz_windows):\n",
    "    bckg_windows = bckg_windows.sample(n=len(seiz_windows))\n",
    "else:\n",
    "    seiz_windows = seiz_windows.sample(n=len(bckg_windows))\n",
    "\n",
    "windows = pd.concat([seiz_windows, bckg_windows]).reset_index(drop=True)\n",
    "windows"
   ]
  },
  {
   "cell_type": "markdown",
   "id": "b9e6baf8",
   "metadata": {},
   "source": [
    "### preprocessing"
   ]
  },
  {
   "cell_type": "code",
   "execution_count": null,
   "id": "f8cfbf75e5c37dc0",
   "metadata": {},
   "outputs": [],
   "source": [
    "def remove_powerline_noise(raw):\n",
    "    powerline_noises = [60]\n",
    "\n",
    "    for freq in powerline_noises:\n",
    "        raw.notch_filter(freqs=freq)\n",
    "\n",
    "    return raw"
   ]
  },
  {
   "cell_type": "code",
   "execution_count": null,
   "id": "269b9602",
   "metadata": {},
   "outputs": [],
   "source": [
    "def butterworth_filter(raw):\n",
    "    iir_params = dict(order=4, ftype='butter')\n",
    "    raw.filter(0.5, 50, method='iir', iir_params=iir_params)\n",
    "    return raw"
   ]
  },
  {
   "cell_type": "code",
   "execution_count": null,
   "id": "7dac3aed",
   "metadata": {},
   "outputs": [],
   "source": [
    "def crop_raw(raw, start, stop):\n",
    "    \"\"\"Crops the raw data based on the onset and duration, handling edge cases.\"\"\"\n",
    "    if stop > raw.times[-1]:\n",
    "        if stop - 1 / raw.info[\"sfreq\"] == raw.times[-1]:\n",
    "            return raw.copy().crop(start, raw.times[-1], include_tmax=True), True\n",
    "        else:\n",
    "            return None, False\n",
    "    else:\n",
    "        return raw.copy().crop(start, stop, include_tmax=False), True"
   ]
  },
  {
   "cell_type": "code",
   "execution_count": null,
   "id": "5dadc88b",
   "metadata": {},
   "outputs": [],
   "source": [
    "def convert_to_freq_domain(channel_data):\n",
    "    # Number of data points\n",
    "    n = len(channel_data)\n",
    "\n",
    "    # Compute FFT\n",
    "    fft_result = np.fft.fft(channel_data)\n",
    "    amplitude = np.abs(fft_result) / n  # Normalize magnitude\n",
    "\n",
    "    # Create frequency axis\n",
    "    frequencies = np.fft.fftfreq(n, d=1/SAMPLING_FREQ)\n",
    "\n",
    "    # Take only the positive half of the spectrum (up to Nyquist frequency)\n",
    "    half_n = n // 2\n",
    "    frequencies = frequencies[:half_n]\n",
    "    amplitude = amplitude[:half_n]\n",
    "\n",
    "    return amplitude \n",
    "    "
   ]
  },
  {
   "cell_type": "markdown",
   "id": "63da3dd8",
   "metadata": {},
   "source": [
    "### process recordings"
   ]
  },
  {
   "cell_type": "code",
   "execution_count": null,
   "id": "3c3bc068",
   "metadata": {},
   "outputs": [],
   "source": [
    "def process_recording(recording_path, recording_windows: pd.DataFrame, domain: str = \"time\"):\n",
    "    try:\n",
    "        \n",
    "        raw_recording = mne.io.read_raw_edf(recording_path, preload=True).pick(picks=CHANNELS)\n",
    "        raw_recording.set_meas_date(None)\n",
    "        \n",
    "        raw_recording = remove_powerline_noise(raw_recording)\n",
    "        raw_recording = butterworth_filter(raw_recording)\n",
    "        raw_recording = raw_recording.resample(SAMPLING_FREQ)\n",
    "\n",
    "        raw_windows = []\n",
    "\n",
    "        for _, window in recording_windows.iterrows():\n",
    "            patient_id, label, start, stop = window[[\"patient_id\", \"label\", \"start\", \"stop\"]]\n",
    "            raw_window, valid = crop_raw(raw_recording, start, stop)\n",
    "            if not valid:\n",
    "                continue\n",
    "        \n",
    "            channel_data = raw_window.get_data()\n",
    "\n",
    "            if domain == \"freq\":\n",
    "                channel_data = np.apply_along_axis(convert_to_freq_domain, 1, channel_data) \n",
    "\n",
    "            raw_windows.append({\n",
    "                \"patient_id\": patient_id,\n",
    "                \"channel_data\": channel_data,\n",
    "                \"label\": label, \n",
    "            })\n",
    "\n",
    "            raw_window.close()\n",
    "        \n",
    "        raw_recording.close()\n",
    "\n",
    "        # create xarray dataset from raw windows\n",
    "        channel_data = np.stack([window[\"channel_data\"] for window in raw_windows])\n",
    "        labels = np.array([window[\"label\"] for window in raw_windows])\n",
    "        patient_id = np.array([window[\"patient_id\"] for window in raw_windows])\n",
    "\n",
    "        data = xr.DataArray(channel_data, dims=(\"window\", \"channel\", \"time\"), coords={\n",
    "            \"patient_id\": (\"window\", patient_id),\n",
    "            \"label\": (\"window\", labels),\n",
    "            \"channel\": CHANNELS,\n",
    "        })\n",
    "\n",
    "        return data\n",
    "    except Exception as e:\n",
    "        print(f\"Failed to process recording {recording_path}: {e}\")\n",
    "        return None"
   ]
  },
  {
   "cell_type": "code",
   "execution_count": null,
   "id": "ecc3fd2d",
   "metadata": {},
   "outputs": [],
   "source": [
    "def process_recordings_parallel(recordings, num_processes=None, domain=\"time\"):\n",
    "    manager = mp.Manager()\n",
    "    queue = manager.Queue()\n",
    "\n",
    "    if num_processes is None:\n",
    "        num_processes = mp.cpu_count()\n",
    "    \n",
    "    def listener(q, total):\n",
    "        pbar = tqdm(total=total, desc=\"Processing recordings\")\n",
    "        for _ in range(total):\n",
    "            q.get()\n",
    "            pbar.update()\n",
    "            pbar.refresh()\n",
    "        pbar.close()\n",
    "\n",
    "    def callback(_):\n",
    "        queue.put(1)    \n",
    "\n",
    "    def error_callback(e):\n",
    "        print(f\"Error: {e}\")\n",
    "        queue.put(1)\n",
    "\n",
    "    with mp.Pool(num_processes) as pool:\n",
    "        print(\"Starting parallel processing...\")\n",
    "        listener_process = mp.Process(target=listener, args=(queue, len(recordings)))\n",
    "        listener_process.start()\n",
    "\n",
    "        data = []\n",
    "\n",
    "        for recording_path, recording_windows in recordings:\n",
    "            res = pool.apply_async(process_recording, args=(recording_path, recording_windows, domain), callback=callback, error_callback=error_callback)\n",
    "            data.append(res)\n",
    "\n",
    "        pool.close()\n",
    "        pool.join()\n",
    "        \n",
    "        listener_process.join()\n",
    "\n",
    "        data = [d.get() for d in data]\n",
    "        data = [d for d in data if d is not None]\n",
    "\n",
    "        print(\"Combining results...\")\n",
    "        \n",
    "        data = xr.concat(data, dim=\"window\")\n",
    "\n",
    "        print(\"Finished processing recordings.\")\n",
    "\n",
    "        return data"
   ]
  },
  {
   "cell_type": "code",
   "execution_count": null,
   "id": "2ca8dc63",
   "metadata": {},
   "outputs": [],
   "source": [
    "recordings = windows.groupby(\"recording_path\")\n",
    "data = process_recordings_parallel(recordings, domain=\"time\", num_processes=64)"
   ]
  },
  {
   "cell_type": "code",
   "execution_count": null,
   "id": "a8a513d7",
   "metadata": {},
   "outputs": [],
   "source": [
    "OUTPUT_FILE = '/dhc/home/jannis.hajda/tuh-eeg-seizure-detection/data/preprocessed/windows_30.nc'"
   ]
  },
  {
   "cell_type": "markdown",
   "id": "639456d2",
   "metadata": {},
   "source": [
    "### write preprocessed data to disk"
   ]
  },
  {
   "cell_type": "code",
   "execution_count": null,
   "id": "5ff9af04",
   "metadata": {},
   "outputs": [],
   "source": [
    "data.to_netcdf(OUTPUT_FILE)"
   ]
  },
  {
   "cell_type": "code",
   "execution_count": null,
   "id": "32149d3a",
   "metadata": {},
   "outputs": [],
   "source": []
  }
 ],
 "metadata": {
  "kernelspec": {
   "display_name": "Python 3 (ipykernel)",
   "language": "python",
   "name": "python3"
  },
  "language_info": {
   "codemirror_mode": {
    "name": "ipython",
    "version": 3
   },
   "file_extension": ".py",
   "mimetype": "text/x-python",
   "name": "python",
   "nbconvert_exporter": "python",
   "pygments_lexer": "ipython3",
   "version": "3.12.4"
  }
 },
 "nbformat": 4,
 "nbformat_minor": 5
}
