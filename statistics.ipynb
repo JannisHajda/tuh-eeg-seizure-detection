{
 "cells": [
  {
   "cell_type": "code",
   "execution_count": 1,
   "metadata": {},
   "outputs": [],
   "source": [
    "import mne\n",
    "import os\n",
    "import matplotlib.pyplot as plt"
   ]
  },
  {
   "cell_type": "code",
   "execution_count": 2,
   "metadata": {},
   "outputs": [],
   "source": [
    "RAW_DATA = \"/dhc/cold/groups/metrics/data/raw\"\n",
    "SETS = [\"dev\", \"eval\", \"train\"]\n",
    "CONFIGURATIONS = [\"01_tcp_ar\", \"02_tcp_le\", \"03_tcp_ar_a\", \"04_tcp_le_a\"]\n"
   ]
  },
  {
   "cell_type": "code",
   "execution_count": 3,
   "metadata": {},
   "outputs": [],
   "source": [
    "def get_patients(set_name): \n",
    "    path = os.path.join(RAW_DATA, \"edf\", set_name)\n",
    "    patients = [f.path for f in os.scandir(path) if f.is_dir()]\n",
    "    return patients\n",
    "\n",
    "\n",
    "def get_sessions(patient):\n",
    "    sessions = [f.path for f in os.scandir(patient) if f.is_dir()]\n",
    "    return sessions\n",
    "\n",
    "\n",
    "def get_configurations(session):\n",
    "    configurations = [f.path for f in os.scandir(session) if f.is_dir()]\n",
    "    return configurations\n",
    "\n",
    "\n",
    "def get_recordings(configuration):\n",
    "    recordings = [f.path for f in os.scandir(configuration) if f.is_file() and f.name.endswith(\".edf\")]\n",
    "    return recordings\n",
    "\n",
    "\n",
    "def get_recording_annotation(recording):\n",
    "    annotation_file = recording.replace(\".edf\", \".csv_bi\") \n",
    "    return annotation_file"
   ]
  },
  {
   "cell_type": "code",
   "execution_count": 4,
   "metadata": {},
   "outputs": [
    {
     "data": {
      "text/plain": [
       "[]"
      ]
     },
     "execution_count": 4,
     "metadata": {},
     "output_type": "execute_result"
    }
   ],
   "source": [
    "def get_sessions_with_multiple_configurations(patients):\n",
    "    sessions_with_multiple_configurations = []\n",
    "    for patient in patients:\n",
    "        sessions = get_sessions(patient)\n",
    "        for session in sessions:\n",
    "            configurations = get_configurations(session)\n",
    "            if len(configurations) > 1:\n",
    "                sessions_with_multiple_configurations.append(session)\n",
    "        \n",
    "    return sessions_with_multiple_configurations\n",
    "\n",
    "\n",
    "patients = get_patients(\"eval\")\n",
    "get_sessions_with_multiple_configurations(patients)"
   ]
  },
  {
   "cell_type": "code",
   "execution_count": 5,
   "metadata": {},
   "outputs": [],
   "source": [
    "def filter_sessions_by_configurations(patients, configurations):\n",
    "    filtered_sessions = []\n",
    "    for patient in patients:\n",
    "        sessions = get_sessions(patient)\n",
    "        for session in sessions:\n",
    "            session_configuration = get_configurations(session)[0].split(\"/\")[-1]\n",
    "            if session_configuration in configurations:\n",
    "                filtered_sessions.append(session)\n",
    "\n",
    "    return filtered_sessions"
   ]
  },
  {
   "cell_type": "code",
   "execution_count": 6,
   "metadata": {},
   "outputs": [
    {
     "data": {
      "text/plain": [
       "[(0.0, 300.0, False)]"
      ]
     },
     "execution_count": 6,
     "metadata": {},
     "output_type": "execute_result"
    }
   ],
   "source": [
    "def parse_annotation(annotation):\n",
    "    with open(annotation, \"r\") as f:\n",
    "        lines = f.readlines()\n",
    "        duration = float(lines[2].split(\" \")[3])\n",
    "        events = lines[6:]\n",
    "\n",
    "        segments = []\n",
    "\n",
    "        prev_end = float(0)\n",
    "        for event in events:\n",
    "            event = event.split(\",\")\n",
    "            start = float(event[1])\n",
    "            end = float(event[2])\n",
    "            seizure = event[3] == \"seiz\"\n",
    "            \n",
    "            if seizure:\n",
    "                if start > prev_end:\n",
    "                    segments.append((prev_end, start, False))\n",
    "                \n",
    "                segments.append((start, end, True))\n",
    "                prev_end = end\n",
    "        \n",
    "        if prev_end < duration:\n",
    "            segments.append((prev_end, duration, False))\n",
    "            \n",
    "        return segments\n",
    "\n",
    "session = get_sessions(patients[0])[0]\n",
    "configuration = get_configurations(session)[0]\n",
    "recording = get_recordings(configuration)[4]\n",
    "parse_annotation(get_recording_annotation(recording))"
   ]
  },
  {
   "cell_type": "code",
   "execution_count": 7,
   "metadata": {},
   "outputs": [],
   "source": [
    "def resample_data(raw, sampling_rate):\n",
    "    if raw.info[\"sfreq\"] != sampling_rate:\n",
    "        print(f\"Resampling data from {raw.info['sfreq']} Hz to {sampling_rate} Hz\")\n",
    "        raw.resample(sampling_rate)\n",
    "\n",
    "    return raw"
   ]
  },
  {
   "cell_type": "code",
   "execution_count": 8,
   "metadata": {},
   "outputs": [
    {
     "data": {
      "image/png": "[encoded data removed]",
      "text/plain": [
       "<Figure size 640x480 with 1 Axes>"
      ]
     },
     "metadata": {},
     "output_type": "display_data"
    }
   ],
   "source": [
    "\n",
    "patients = get_patients(\"train\")\n",
    "ar_sessions = filter_sessions_by_configurations(patients, [\"01_tcp_ar\"])\n",
    "le_sessions = filter_sessions_by_configurations(patients, [\"02_tcp_le\"])\n",
    "ar_a_sessions = filter_sessions_by_configurations(patients, [\"03_tcp_ar_a\"])\n",
    "le_a_sessions = filter_sessions_by_configurations(patients, [\"04_tcp_le_a\"])\n",
    "\n",
    "fig, ax = plt.subplots()\n",
    "\n",
    "configurations = ['ar', 'le', 'ar_a', 'le_a']\n",
    "counts = [len(ar_sessions), len(le_sessions), len(ar_a_sessions), len(le_a_sessions)]\n",
    "bar_labels = ['ar', 'le', 'ar_a', 'le_a']\n",
    "bar_colors = ['tab:red', 'tab:blue', 'tab:red', 'tab:orange']\n",
    "\n",
    "ax.bar(configurations, counts, label=bar_labels, color=bar_colors)\n",
    "\n",
    "ax.set_ylabel('number of sessions')\n",
    "ax.legend(title='Configurations')\n",
    "\n",
    "plt.show()"
   ]
  },
  {
   "cell_type": "code",
   "execution_count": 9,
   "metadata": {},
   "outputs": [
    {
     "data": {
      "image/png": "[encoded data removed]",
      "text/plain": [
       "<Figure size 640x480 with 1 Axes>"
      ]
     },
     "metadata": {},
     "output_type": "display_data"
    }
   ],
   "source": [
    "ar_seizures, ar_non_seizures = 0, 0\n",
    "le_seizures, le_non_seizures = 0, 0\n",
    "ar_a_seizures, ar_a_non_seizures = 0, 0\n",
    "le_a_seizures, le_a_non_seizures = 0, 0\n",
    "\n",
    "for session in ar_sessions:\n",
    "    recordings = get_recordings(get_configurations(session)[0])\n",
    "    for recording in recordings:\n",
    "        annotation = get_recording_annotation(recording)\n",
    "        segments = parse_annotation(annotation)\n",
    "        ar_seizures += len([segment for segment in segments if segment[2]])\n",
    "        ar_non_seizures += len([segment for segment in segments if not segment[2]])\n",
    "        \n",
    "    \n",
    "for session in le_sessions:\n",
    "    recordings = get_recordings(get_configurations(session)[0])\n",
    "    for recording in recordings:\n",
    "        annotation = get_recording_annotation(recording)\n",
    "        segments = parse_annotation(annotation)\n",
    "        le_seizures += len([segment for segment in segments if segment[2]])\n",
    "        le_non_seizures += len([segment for segment in segments if not segment[2]])\n",
    "                           \n",
    "\n",
    "for session in ar_a_sessions:\n",
    "    recordings = get_recordings(get_configurations(session)[0])\n",
    "    for recording in recordings:\n",
    "        annotation = get_recording_annotation(recording)\n",
    "        segments = parse_annotation(annotation)\n",
    "        ar_a_seizures += len([segment for segment in segments if segment[2]])\n",
    "        ar_a_non_seizures += len([segment for segment in segments if not segment[2]])\n",
    "        \n",
    "\n",
    "for session in le_a_sessions:\n",
    "    recordings = get_recordings(get_configurations(session)[0])\n",
    "    for recording in recordings:\n",
    "        annotation = get_recording_annotation(recording)\n",
    "        segments = parse_annotation(annotation)\n",
    "        le_a_seizures += len([segment for segment in segments if segment[2]])\n",
    "        le_a_non_seizures += len([segment for segment in segments if not segment[2]])\n",
    "\n",
    "\n",
    "# Data for plotting\n",
    "configurations = ['AR', 'LE', 'AR-A', 'LE-A']\n",
    "seizures = [ar_seizures, le_seizures, ar_a_seizures, le_a_seizures]\n",
    "non_seizures = [ar_non_seizures, le_non_seizures, ar_a_non_seizures, le_a_non_seizures]\n",
    "\n",
    "# Plotting\n",
    "x = range(len(configurations))\n",
    "\n",
    "fig, ax = plt.subplots()\n",
    "\n",
    "# Plot bars\n",
    "bar_width = 0.35\n",
    "ax.bar(x, seizures, bar_width, label='Seizures')\n",
    "ax.bar([p + bar_width for p in x], non_seizures, bar_width, label='Non-Seizures')\n",
    "\n",
    "# Labeling\n",
    "ax.set_xlabel('Configuration')\n",
    "ax.set_ylabel('Count')\n",
    "ax.set_title('Seizure and Non-Seizure Events by Configuration')\n",
    "ax.set_xticks([p + bar_width / 2 for p in x])\n",
    "ax.set_xticklabels(configurations)\n",
    "ax.legend()\n",
    "\n",
    "plt.show()"
   ]
  },
  {
   "cell_type": "code",
   "execution_count": null,
   "metadata": {},
   "outputs": [],
   "source": [
    "seizure_samples = []\n",
    "non_seizure_samples = []\n",
    "\n",
    "for ar_session in ar_sessions[:5]:\n",
    "    configuration = get_configurations(ar_session)[0]\n",
    "    recordings = get_recordings(configuration)    \n",
    "\n",
    "    for recording in recordings:\n",
    "        annotation_file = get_recording_annotation(recording)\n",
    "        segments = parse_annotation(annotation_file)\n",
    "\n",
    "        raw = mne.io.read_raw_edf(recording, preload=True)\n",
    "        raw_resampled = resample_data(raw, 256) \n",
    "        tmax = raw_resampled.times[-1]\n",
    "\n",
    "        for segment in segments:\n",
    "            start = segment[0]\n",
    "            end = min(tmax, segment[1])\n",
    "            seizure = segment[2]\n",
    "            if seizure:\n",
    "                seizure_samples.append(raw_resampled.copy().crop(start, end))\n",
    "            else:\n",
    "                non_seizure_samples.append(raw_resampled.copy().crop(start, end))\n",
    "\n",
    "        print(annotation_file)\n",
    "        break\n",
    "\n",
    "\n",
    "seizure_samples\n",
    "%matplotlib inline\n",
    "non_seizure_samples[0].plot()"
   ]
  },
  {
   "cell_type": "code",
   "execution_count": 10,
   "metadata": {},
   "outputs": [
    {
     "data": {
      "image/png": "[encoded data removed]",
      "text/plain": [
       "<Figure size 640x480 with 1 Axes>"
      ]
     },
     "metadata": {},
     "output_type": "display_data"
    }
   ],
   "source": [
    "# Check if seizure segments are followed by non-seizure of at least the same length\n",
    "def check_segments(segments):\n",
    "    valid_segments = []\n",
    "    invalid_segments = []\n",
    "    \n",
    "    for i, segment in enumerate(segments):\n",
    "        seizure = segment[2]\n",
    "        if seizure:\n",
    "            if i + 1 < len(segments):\n",
    "                next_segment = segments[i + 1]\n",
    "                next_segment_is_seizure = next_segment[2]\n",
    "                if not next_segment_is_seizure:\n",
    "                    if next_segment[1] - next_segment[0] >= segment[1] - segment[0]:\n",
    "                        valid_segments.append(segment)\n",
    "                    else:\n",
    "                        invalid_segments.append(segment)\n",
    "                else:\n",
    "                    invalid_segments.append(segment)\n",
    "            else:\n",
    "                invalid_segments.append(segment)\n",
    "\n",
    "    return valid_segments, invalid_segments\n",
    "\n",
    "valid_seizure_segments, invalid_seizure_segments = 0, 0\n",
    "for session in ar_sessions:\n",
    "    recordings = get_recordings(get_configurations(session)[0])\n",
    "    for recording in recordings:\n",
    "        annotation = get_recording_annotation(recording)\n",
    "        segments = parse_annotation(annotation)\n",
    "        valid, invalid = check_segments(segments)\n",
    "        valid_seizure_segments += len(valid)\n",
    "        invalid_seizure_segments += len(invalid)\n",
    "\n",
    "# Plotting\n",
    "labels = ['Valid Seizures', 'Invalid Seizures']\n",
    "counts = [valid_seizure_segments, invalid_seizure_segments]\n",
    "\n",
    "fig, ax = plt.subplots()\n",
    "\n",
    "ax.bar(labels, counts, color=['green', 'red'])\n",
    "ax.set_xlabel('Segment Type')\n",
    "ax.set_ylabel('Count')\n",
    "ax.set_title('Valid and Invalid Seizure Segments in AR Sessions')\n",
    "\n",
    "plt.show()\n"
   ]
  },
  {
   "cell_type": "code",
   "execution_count": 23,
   "metadata": {},
   "outputs": [
    {
     "data": {
      "text/plain": [
       "8"
      ]
     },
     "execution_count": 23,
     "metadata": {},
     "output_type": "execute_result"
    }
   ],
   "source": [
    "def calc_session_length(session):\n",
    "    configuration = get_configurations(session)[0]\n",
    "    recordings = get_recordings(configuration)\n",
    "    length = 0\n",
    "\n",
    "    for recording in recordings:\n",
    "        annotation = get_recording_annotation(recording)\n",
    "        \n",
    "        with open(annotation, \"r\") as file:\n",
    "            lines = file.readlines()\n",
    "            length += len(lines)\n",
    "            \n",
    "    return length\n",
    "\n",
    "calc_session_length(sessions[0])\n",
    "    "
   ]
  },
  {
   "cell_type": "code",
   "execution_count": 20,
   "metadata": {},
   "outputs": [
    {
     "data": {
      "text/plain": [
       "'AR'"
      ]
     },
     "execution_count": 20,
     "metadata": {},
     "output_type": "execute_result"
    }
   ],
   "source": [
    "class Recording:\n",
    "    path = \"\"\n",
    "    configuration = \"\"\n",
    "    annotation = \"\"\n",
    "    segments = []\n",
    "      \n",
    "    # type must be AR, LE, AR-A, or LE-A\n",
    "    def __init__(self, path, configuration):\n",
    "        self.path = path\n",
    "        self.configuration = configuration\n",
    "        self.annotation = get_recording_annotation(path)\n",
    "        self.segments = parse_annotation(self.annotation)\n",
    "\n",
    "    def __parse_annotation(annotation_file):\n",
    "        segments = []\n",
    "        with open(annotation, \"r\") as f:\n",
    "            lines = f.readlines()\n",
    "            duration = float(lines[2].split(\" \")[3])\n",
    "            events = lines[6:]\n",
    "\n",
    "            segments = []\n",
    "\n",
    "            prev_end = float(0)\n",
    "            for event in events:\n",
    "                event = event.split(\",\")\n",
    "                start = float(event[1])\n",
    "                end = float(event[2])\n",
    "                seizure = event[3] == \"seiz\"\n",
    "                \n",
    "                if seizure:\n",
    "                    if start > prev_end:\n",
    "                        segments.append((prev_end, start, False))\n",
    "                    \n",
    "                    segments.append((start, end, True))\n",
    "                    prev_end = end\n",
    "            \n",
    "            if prev_end < duration:\n",
    "                segments.append((prev_end, duration, False))\n",
    "\n",
    "        return segments\n",
    "\n",
    "rec1 = Recording(get_recordings(get_configurations(ar_sessions[0])[0])[0], \"AR\")\n",
    "rec1.configuration\n"
   ]
  },
  {
   "cell_type": "code",
   "execution_count": null,
   "metadata": {},
   "outputs": [],
   "source": [
    "class Session:\n",
    "    recordings = []\n",
    "    configuration = \"\"\n",
    "    \n",
    "    def __init__(self, path):\n",
    "        "
   ]
  }
 ],
 "metadata": {
  "kernelspec": {
   "display_name": "Python 3 (ipykernel)",
   "language": "python",
   "name": "python3"
  },
  "language_info": {
   "codemirror_mode": {
    "name": "ipython",
    "version": 3
   },
   "file_extension": ".py",
   "mimetype": "text/x-python",
   "name": "python",
   "nbconvert_exporter": "python",
   "pygments_lexer": "ipython3",
   "version": "3.11.5"
  }
 },
 "nbformat": 4,
 "nbformat_minor": 2
}
