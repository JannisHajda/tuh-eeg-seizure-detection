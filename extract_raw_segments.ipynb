{
 "cells": [
  {
   "cell_type": "code",
   "execution_count": 1,
   "metadata": {
    "ExecuteTime": {
     "end_time": "2024-05-24T11:25:52.461007Z",
     "start_time": "2024-05-24T11:25:52.457854Z"
    }
   },
   "outputs": [],
   "source": [
    "%matplotlib qt\n",
    "\n",
    "import mne\n",
    "import matplotlib.pyplot as plt\n",
    "import numpy as np\n",
    "import enum\n",
    "import os"
   ]
  },
  {
   "cell_type": "code",
   "execution_count": 2,
   "metadata": {
    "ExecuteTime": {
     "end_time": "2024-05-24T10:27:45.364934Z",
     "start_time": "2024-05-24T10:27:45.362805Z"
    }
   },
   "outputs": [],
   "source": [
    "TUH_EEG_SEIZURE_CORPUS = \"/Users/jannis/Git/tuh-eeg-seizure-detection/data/raw\"\n",
    "OUTPUT = \"/dhc/cold/groups/metrics/data/processed\""
   ]
  },
  {
   "cell_type": "code",
   "execution_count": 3,
   "metadata": {
    "ExecuteTime": {
     "end_time": "2024-05-24T10:27:45.830640Z",
     "start_time": "2024-05-24T10:27:45.823433Z"
    }
   },
   "outputs": [],
   "source": [
    "class Recording:\n",
    "    path: str\n",
    "    annotations: mne.Annotations\n",
    "    \n",
    "    # seizures are tuples of onset and duration\n",
    "    seizures: list[(float, float)]\n",
    "    \n",
    "    # non-seizures are tuples of onset and duration\n",
    "    non_seizures: list[(float, float)]\n",
    "    \n",
    "    \n",
    "    def __init__(self, path: str):\n",
    "        self.path = path\n",
    "        self.annotations = self._parse_annotation_file()\n",
    "        \n",
    "        self.seizures = [(self.annotations.onset[i], self.annotations.duration[i]) for i, x in enumerate(self.annotations.description) if x == \"seiz\"]\n",
    "        self.non_seizures = [(self.annotations.onset[i], self.annotations.duration[i]) for i, x in enumerate(self.annotations.description) if x == \"bckg\"]\n",
    "        \n",
    "    \n",
    "    def _parse_annotation_file(self):\n",
    "        annotation_file = self.path.replace(\".edf\", \".csv_bi\")\n",
    "        raw_annotations: list[str] = []\n",
    "\n",
    "        with open(annotation_file, \"r\") as f:\n",
    "            for line in f:\n",
    "                raw_annotations.append(line)\n",
    "\n",
    "        raw_annotations = raw_annotations[6:]\n",
    "\n",
    "        onset: list[float] = []\n",
    "        duration: list[float] = []\n",
    "        description: list[str] = []\n",
    "        \n",
    "        for line in raw_annotations:\n",
    "            parts = line.split(\",\")\n",
    "            start = parts[1]\n",
    "            end = parts[2]\n",
    "            label = parts[3]\n",
    "            \n",
    "            onset.append(float(start))\n",
    "            duration.append(float(end) - float(start))\n",
    "            description.append(label)\n",
    "\n",
    "        return mne.Annotations(onset, duration, description)\n",
    "    \n",
    "    \n",
    "    def plot(self):\n",
    "        raw = mne.io.read_raw_edf(self.path)\n",
    "        raw.set_annotations(self.annotations)\n",
    "        raw.plot()\n",
    " \n",
    "class Session:\n",
    "    session_id: str\n",
    "    recordings: list[Recording]\n",
    "    configuration: str\n",
    "    \n",
    "    def __init__(self, session_id: str, recordings: list[Recording], configuration: str):\n",
    "        self.session_id = session_id\n",
    "        self.recordings = recordings\n",
    "        self.configuration = configuration\n",
    "        \n",
    "\n",
    "class Patient:\n",
    "    patient_id: str\n",
    "    sessions: list[Session]\n",
    "    \n",
    "    def __init__(self, patient_id, sessions: list[Session]):\n",
    "        self.patient_id = patient_id\n",
    "        self.sessions = sessions"
   ]
  },
  {
   "cell_type": "code",
   "execution_count": 11,
   "metadata": {
    "ExecuteTime": {
     "end_time": "2024-05-24T10:27:52.912562Z",
     "start_time": "2024-05-24T10:27:46.847463Z"
    }
   },
   "outputs": [
    {
     "ename": "AttributeError",
     "evalue": "'str' object has no attribute 'isdir'",
     "output_type": "error",
     "traceback": [
      "\u001b[0;31m---------------------------------------------------------------------------\u001b[0m",
      "\u001b[0;31mAttributeError\u001b[0m                            Traceback (most recent call last)",
      "Cell \u001b[0;32mIn[11], line 6\u001b[0m\n\u001b[1;32m      4\u001b[0m \u001b[38;5;66;03m# iterate over all data sets in the TUH EEG Seizure Corpus edf folder\u001b[39;00m\n\u001b[1;32m      5\u001b[0m \u001b[38;5;28;01mfor\u001b[39;00m data_set \u001b[38;5;129;01min\u001b[39;00m os\u001b[38;5;241m.\u001b[39mlistdir(\u001b[38;5;124mf\u001b[39m\u001b[38;5;124m\"\u001b[39m\u001b[38;5;132;01m{\u001b[39;00mTUH_EEG_SEIZURE_CORPUS\u001b[38;5;132;01m}\u001b[39;00m\u001b[38;5;124m/edf\u001b[39m\u001b[38;5;124m\"\u001b[39m):\n\u001b[0;32m----> 6\u001b[0m     \u001b[38;5;28;01mif\u001b[39;00m \u001b[38;5;129;01mnot\u001b[39;00m data_set\u001b[38;5;241m.\u001b[39misdir():\n\u001b[1;32m      7\u001b[0m         \u001b[38;5;28;01mcontinue\u001b[39;00m\n\u001b[1;32m      9\u001b[0m     \u001b[38;5;66;03m# iterate over all patients in the data set\u001b[39;00m\n",
      "\u001b[0;31mAttributeError\u001b[0m: 'str' object has no attribute 'isdir'"
     ]
    }
   ],
   "source": [
    "# Load all patients\n",
    "patients: list[Patient] = []\n",
    "\n",
    "# iterate over all data sets in the TUH EEG Seizure Corpus edf folder\n",
    "for data_set in os.listdir(f\"{TUH_EEG_SEIZURE_CORPUS}/edf\"):\n",
    "    if not data_set.isdir():\n",
    "        continue\n",
    "        \n",
    "    # iterate over all patients in the data set\n",
    "    for patient in os.listdir(f\"{TUH_EEG_SEIZURE_CORPUS}/edf/{data_set}\"):\n",
    "        sessions = []\n",
    "        \n",
    "        # iterate over all sessions in the patient folder\n",
    "        for session in os.listdir(f\"{TUH_EEG_SEIZURE_CORPUS}/edf/{data_set}/{patient}\"):\n",
    "            # configuration is the first and only folder in the session folder\n",
    "            configuration = os.listdir(f\"{TUH_EEG_SEIZURE_CORPUS}/edf/{data_set}/{patient}/{session}\")[0]\n",
    "            \n",
    "            recordings = []\n",
    "            \n",
    "            # iterate over all files in the configuration folder\n",
    "            for file in os.listdir(f\"{TUH_EEG_SEIZURE_CORPUS}/edf/{data_set}/{patient}/{session}/{configuration}\"):\n",
    "                if not file.endswith(\".edf\"):\n",
    "                    continue\n",
    "                    \n",
    "                recording = Recording(f\"{TUH_EEG_SEIZURE_CORPUS}/edf/{data_set}/{patient}/{session}/{configuration}/{file}\")\n",
    "                recordings.append(recording)\n",
    "            \n",
    "            sessions.append(Session(session, recordings, configuration))\n",
    "        \n",
    "        patients.append(Patient(patient, sessions))\n",
    "        \n",
    "patients"
   ]
  },
  {
   "cell_type": "code",
   "execution_count": 5,
   "metadata": {
    "ExecuteTime": {
     "end_time": "2024-05-24T10:28:14.737867Z",
     "start_time": "2024-05-24T10:28:14.726896Z"
    }
   },
   "outputs": [
    {
     "data": {
      "text/plain": [
       "set()"
      ]
     },
     "execution_count": 5,
     "metadata": {},
     "output_type": "execute_result"
    }
   ],
   "source": [
    "# check if there are duplicate patients across data sets\n",
    "patient_ids = [patient.patient_id for patient in patients]\n",
    "duplicates = set([x for x in patient_ids if patient_ids.count(x) > 1])\n",
    "duplicates"
   ]
  },
  {
   "cell_type": "code",
   "execution_count": 8,
   "metadata": {
    "ExecuteTime": {
     "end_time": "2024-05-24T11:38:58.014125Z",
     "start_time": "2024-05-24T11:38:58.006966Z"
    }
   },
   "outputs": [
    {
     "data": {
      "text/plain": [
       "(0, 0, 0)"
      ]
     },
     "execution_count": 8,
     "metadata": {},
     "output_type": "execute_result"
    }
   ],
   "source": [
    "# check if there are patients without seizures\n",
    "patients_without_seizures: list[Patient] = [] \n",
    "patients_with_and_without_seizures: list[Patient] = []\n",
    "patients_with_seizures: list[Patient] = []\n",
    "\n",
    "for patient in patients:\n",
    "    has_non_seizure = False\n",
    "    has_seizures = False\n",
    "    \n",
    "    for session in patient.sessions:\n",
    "        for recording in session.recordings:\n",
    "            if len(recording.seizures) > 0:\n",
    "                has_seizures = True\n",
    "                \n",
    "            if len(recording.non_seizures) > 0:\n",
    "                has_non_seizure = True\n",
    "            \n",
    "    if has_seizures and has_non_seizure:\n",
    "        patients_with_and_without_seizures.append(patient)\n",
    "    elif has_seizures:\n",
    "        patients_with_seizures.append(patient)\n",
    "    else:\n",
    "        patients_without_seizures.append(patient)\n",
    "       \n",
    "len(patients_without_seizures), len(patients_with_seizures), len(patients_with_and_without_seizures)"
   ]
  },
  {
   "cell_type": "code",
   "execution_count": 51,
   "metadata": {
    "ExecuteTime": {
     "end_time": "2024-05-24T10:54:23.557459Z",
     "start_time": "2024-05-24T10:54:23.548713Z"
    }
   },
   "outputs": [
    {
     "data": {
      "text/plain": [
       "(76.17875672222233, 307.05807302777777)"
      ]
     },
     "execution_count": 51,
     "metadata": {},
     "output_type": "execute_result"
    }
   ],
   "source": [
    "# calc total seizure and non-seizure duration\n",
    "seizure_duration = 0\n",
    "non_seizure_duration = 0\n",
    "selected_configurations = [\"01_tcp_ar\", \"02_tcp_le\", \"03_tcp_ar_a\", \"04_tcp_le_a\"]\n",
    "\n",
    "for patient in patients_with_seizures:\n",
    "    for session in patient.sessions:\n",
    "        if session.configuration not in selected_configurations:\n",
    "            continue\n",
    "            \n",
    "        for recording in session.recordings:\n",
    "            seizure_duration += sum([x[1] for x in recording.seizures])\n",
    "            non_seizure_duration += sum([x[1] for x in recording.non_seizures])\n",
    "            \n",
    "            \n",
    "seizure_duration / 3600, non_seizure_duration / 3600"
   ]
  },
  {
   "cell_type": "code",
   "execution_count": 55,
   "metadata": {
    "ExecuteTime": {
     "end_time": "2024-05-24T10:54:56.921013Z",
     "start_time": "2024-05-24T10:54:56.911403Z"
    }
   },
   "outputs": [
    {
     "name": "stdout",
     "output_type": "stream",
     "text": [
      "578 6668\n"
     ]
    },
    {
     "data": {
      "text/plain": [
       "(19.266666666666666, 222.26666666666668)"
      ]
     },
     "execution_count": 55,
     "metadata": {},
     "output_type": "execute_result"
    }
   ],
   "source": [
    "# calc number of possible windows (non-overlapping) for seizure and non-seizure data\n",
    "window_size = 120 # window size in seconds\n",
    "selected_configurations = [\"01_tcp_ar\"]\n",
    "\n",
    "seizure_windows = 0\n",
    "non_seizure_windows = 0\n",
    "\n",
    "for patient in patients_with_seizures:\n",
    "    for session in patient.sessions:\n",
    "        # skip session if configuration is not in selected configurations\n",
    "        if session.configuration not in selected_configurations:\n",
    "            continue\n",
    "        \n",
    "        for recording in session.recordings:\n",
    "            seizures = recording.seizures\n",
    "            non_seizures = recording.non_seizures\n",
    "            \n",
    "            for seizure in seizures:\n",
    "                # if seizure duration is smaller than window size, skip\n",
    "                if seizure[1] < window_size:\n",
    "                    continue\n",
    "                    \n",
    "                # number of windows is floor of seizure duration divided by window size\n",
    "                seizure_windows += int(seizure[1] // window_size)\n",
    "            \n",
    "            for non_seizure in non_seizures:\n",
    "                # if non-seizure duration is smaller than window size, skip\n",
    "                if non_seizure[1] < window_size:\n",
    "                    continue\n",
    "                    \n",
    "                # number of windows is floor of non-seizure duration divided by window size\n",
    "                non_seizure_windows += int(non_seizure[1] // window_size)\n",
    "                \n",
    "print(seizure_windows, non_seizure_windows)\n",
    "(seizure_windows * window_size)/3600, (non_seizure_windows * window_size)/3600 # total duration of seizure and non-seizure windows in hours"
   ]
  },
  {
   "cell_type": "code",
   "execution_count": 66,
   "metadata": {
    "ExecuteTime": {
     "end_time": "2024-05-24T11:39:38.553577Z",
     "start_time": "2024-05-24T11:39:38.383573Z"
    }
   },
   "outputs": [
    {
     "name": "stdout",
     "output_type": "stream",
     "text": [
      "Average number of windows: 317.2413793103448\n",
      "Minimum number of windows: 0\n",
      "Maximum number of windows: 3628\n",
      "Standard deviation of number of windows: 587.2081024041919\n",
      "Median number of windows: 59.5\n"
     ]
    },
    {
     "data": {
      "application/vnd.jupyter.widget-view+json": {
       "model_id": "d600fe38134f4f2da624c5d454cbe7e4",
       "version_major": 2,
       "version_minor": 0
      },
      "image/png": "[encoded data removed]",
      "text/html": [
       "\n",
       "            <div style=\"display: inline-block;\">\n",
       "                <div class=\"jupyter-widgets widget-label\" style=\"text-align: center;\">\n",
       "                    Figure\n",
       "                </div>\n",
       "                <img src='data:image/png;base64,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' width=1000.0/>\n",
       "            </div>\n",
       "        "
      ],
      "text/plain": [
       "Canvas(toolbar=Toolbar(toolitems=[('Home', 'Reset original view', 'home', 'home'), ('Back', 'Back to previous …"
      ]
     },
     "metadata": {},
     "output_type": "display_data"
    }
   ],
   "source": [
    "def get_windows(window_size: int, patient: Patient):\n",
    "    non_seizure_windows = 0\n",
    "    seizure_windows = 0\n",
    "    \n",
    "    for session in patient.sessions:\n",
    "        for recording in session.recordings:\n",
    "            seizures = recording.seizures\n",
    "            non_seizures = recording.non_seizures\n",
    "            \n",
    "            for seizure in seizures:\n",
    "                # if seizure duration is smaller than window size, skip\n",
    "                if seizure[1] < window_size:\n",
    "                    continue\n",
    "                    \n",
    "                # number of windows is floor of seizure duration divided by window size\n",
    "                seizure_windows += int(seizure[1] // window_size)\n",
    "            \n",
    "            for non_seizure in non_seizures:\n",
    "                # if non-seizure duration is smaller than window size, skip\n",
    "                if non_seizure[1] < window_size:\n",
    "                    continue\n",
    "                    \n",
    "                # number of windows is floor of non-seizure duration divided by window size\n",
    "                non_seizure_windows += int(non_seizure[1] // window_size)\n",
    "                \n",
    "    return seizure_windows, non_seizure_windows\n",
    "\n",
    "# Collect num_windows for each patient\n",
    "num_windows_list = []\n",
    "\n",
    "for patient in patients_with_and_without_seizures:\n",
    "    seizure_windows, non_seizure_windows = get_windows(2, patient)\n",
    "    num_windows = min(seizure_windows, non_seizure_windows)\n",
    "    num_windows_list.append(num_windows)\n",
    "\n",
    "# Calculate statistics\n",
    "avg_num_windows = np.mean(num_windows_list)\n",
    "min_num_windows = np.min(num_windows_list)\n",
    "max_num_windows = np.max(num_windows_list)\n",
    "std_num_windows = np.std(num_windows_list)\n",
    "median_num_windows = np.median(num_windows_list)\n",
    "\n",
    "# Print statistics\n",
    "print(f\"Average number of windows: {avg_num_windows}\")\n",
    "print(f\"Minimum number of windows: {min_num_windows}\")\n",
    "print(f\"Maximum number of windows: {max_num_windows}\")\n",
    "print(f\"Standard deviation of number of windows: {std_num_windows}\")\n",
    "print(f\"Median number of windows: {median_num_windows}\")\n",
    "\n",
    "# Plotting the statistics\n",
    "plt.figure(figsize=(10, 6))\n",
    "\n",
    "# Histogram of num_windows\n",
    "plt.subplot(2, 1, 1)\n",
    "plt.hist(num_windows_list, bins=10, edgecolor='black')\n",
    "plt.title('Histogram of Number of Windows')\n",
    "plt.xlabel('Number of Windows')\n",
    "plt.ylabel('Frequency')\n",
    "\n",
    "# Boxplot of num_windows\n",
    "plt.subplot(2, 1, 2)\n",
    "plt.boxplot(num_windows_list, vert=False)\n",
    "plt.title('Boxplot of Number of Windows')\n",
    "plt.xlabel('Number of Windows')\n",
    "\n",
    "plt.tight_layout()\n",
    "plt.show()"
   ]
  },
  {
   "cell_type": "code",
   "execution_count": 7,
   "metadata": {},
   "outputs": [
    {
     "data": {
      "text/plain": [
       "[]"
      ]
     },
     "execution_count": 7,
     "metadata": {},
     "output_type": "execute_result"
    }
   ],
   "source": []
  },
  {
   "cell_type": "code",
   "execution_count": null,
   "metadata": {},
   "outputs": [],
   "source": []
  }
 ],
 "metadata": {
  "kernelspec": {
   "display_name": "Python 3 (ipykernel)",
   "language": "python",
   "name": "python3"
  },
  "language_info": {
   "codemirror_mode": {
    "name": "ipython",
    "version": 3
   },
   "file_extension": ".py",
   "mimetype": "text/x-python",
   "name": "python",
   "nbconvert_exporter": "python",
   "pygments_lexer": "ipython3",
   "version": "3.11.5"
  }
 },
 "nbformat": 4,
 "nbformat_minor": 2
}
