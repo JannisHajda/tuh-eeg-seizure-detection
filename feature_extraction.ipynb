{
 "cells": [
  {
   "cell_type": "code",
   "execution_count": null,
   "metadata": {},
   "outputs": [],
   "source": [
    "import xarray as xr\n",
    "import numpy as np\n",
    "import matplotlib.pyplot as plt\n",
    "import scipy.stats as stats\n",
    "import pywt\n",
    "import re\n",
    "import mne\n",
    "import multiprocessing as mp\n",
    "from tqdm import tqdm\n",
    "import pandas as pd\n",
    "import yaml\n",
    "from config import get_feature_extraction_config"
   ]
  },
  {
   "cell_type": "code",
   "execution_count": null,
   "metadata": {},
   "outputs": [],
   "source": [
    "mne.set_log_level('WARNING')"
   ]
  },
  {
   "cell_type": "code",
   "execution_count": null,
   "metadata": {},
   "outputs": [],
   "source": [
    "conf = get_feature_extraction_config()\n",
    " \n",
    "INPUT_FILE = \"/dhc/home/jannis.hajda/tuh-eeg-seizure-detection/data/preprocessed/windows_time_10.nc\" #  conf['input_file']\n",
    "OUTPUT_PATH = \"/dhc/home/jannis.hajda/tuh-eeg-seizure-detection/data/features/\"\n",
    "\n",
    "SAMPLING_FREQ = conf['sampling_frequency']\n",
    "CHANNELS = conf['channels']\n",
    "\n",
    "LEFT_HEMISPHERE = conf['left_hemisphere']\n",
    "RIGHT_HEMISPHERE = conf['right_hemisphere']"
   ]
  },
  {
   "cell_type": "markdown",
   "metadata": {},
   "source": [
    "### loading windows"
   ]
  },
  {
   "cell_type": "code",
   "execution_count": null,
   "metadata": {},
   "outputs": [],
   "source": [
    "windows = xr.open_dataarray(INPUT_FILE)\n",
    "windows"
   ]
  },
  {
   "cell_type": "code",
   "execution_count": null,
   "metadata": {},
   "outputs": [],
   "source": [
    "WINDOW_LENGTH = windows.sizes[\"time\"] // SAMPLING_FREQ\n",
    "WINDOW_LENGTH"
   ]
  },
  {
   "cell_type": "markdown",
   "metadata": {},
   "source": [
    "### feature extraction methods\n"
   ]
  },
  {
   "cell_type": "code",
   "execution_count": null,
   "metadata": {},
   "outputs": [],
   "source": [
    "def calc_coeffs_features(coeffs):\n",
    "    mean = np.mean(coeffs)\n",
    "    median = np.median(coeffs)\n",
    "    std = np.std(coeffs)\n",
    "    variance = np.var(coeffs)\n",
    "    skew = stats.skew(coeffs)\n",
    "    kurtosis = stats.kurtosis(coeffs)\n",
    "    rms = np.sqrt(np.mean(coeffs ** 2))\n",
    "    energy = np.sum(coeffs ** 2)\n",
    "    \n",
    "    return {\n",
    "        \"mean\": mean,\n",
    "        \"median\": median,\n",
    "        \"variance\": variance,\n",
    "        \"std\": std,\n",
    "        \"skew\": skew,\n",
    "        \"kurtosis\": kurtosis,\n",
    "        \"rms\": rms,\n",
    "        \"energy\": energy,\n",
    "    }\n",
    "    \n",
    "def extract_wavelet_features(channel_data: np.ndarray ) -> dict[str, float]:\n",
    "    a5, d5, d4, d3, d2, d1 = pywt.wavedec(channel_data, 'db4', level=5)\n",
    "    \n",
    "    wavelet_features = {f\"{coeff}_{stat}\": value \n",
    "                        for coeff, data in zip([\"a5\", \"d5\", \"d4\", \"d3\"], [a5, d5, d4, d3])\n",
    "                        for stat, value in calc_coeffs_features(data).items()}\n",
    "    \n",
    "    return wavelet_features"
   ]
  },
  {
   "cell_type": "code",
   "execution_count": null,
   "metadata": {},
   "outputs": [],
   "source": [
    "def extract_band_power(channel_data, sfreq=SAMPLING_FREQ, n_fft=256) -> dict[str, float]:\n",
    "    frequency_bands = {\n",
    "        \"delta\": (0.5, 4),\n",
    "        \"theta\": (4, 7),\n",
    "        \"alpha\": (7, 12),\n",
    "        \"beta\": (12, 30),\n",
    "        \"gamma\": (30, 50)\n",
    "    }\n",
    "\n",
    "    band_powers = {}\n",
    "\n",
    "    n_fft = min(n_fft, sfreq)\n",
    "    psds, freqs = mne.time_frequency.psd_array_welch(channel_data, sfreq=sfreq, n_fft=n_fft, fmin=0.5, fmax=50)\n",
    "\n",
    "    # Calculate power within each frequency band\n",
    "    for band, (fmin, fmax) in frequency_bands.items():\n",
    "        # Find indices of frequencies within the band\n",
    "        band_indices = np.where((freqs >= fmin) & (freqs <= fmax))[0]\n",
    "\n",
    "        # Sum the power spectral density values within the band\n",
    "        band_power = np.sum(psds[band_indices])\n",
    "\n",
    "        band_powers[band] = band_power\n",
    "\n",
    "    return band_powers "
   ]
  },
  {
   "cell_type": "code",
   "execution_count": null,
   "metadata": {},
   "outputs": [],
   "source": [
    "def calc_power_ratios(band_powers : dict[str, float]) -> dict[str, float]:\n",
    "    alpha_beta_ratio = band_powers[\"alpha\"] / band_powers[\"beta\"] if band_powers[\"beta\"] != 0 else np.nan\n",
    "    theta_beta_ratio = band_powers[\"theta\"] / band_powers[\"beta\"] if band_powers[\"beta\"] != 0 else np.nan\n",
    "    theta_alpha_beta_ratio = (band_powers[\"theta\"] + band_powers[\"alpha\"]) / band_powers[\"beta\"] if band_powers[\"beta\"] != 0 else np.nan\n",
    "    theta_alpha_beta_alpha_ratio = (band_powers[\"theta\"] + band_powers[\"alpha\"]) / (band_powers[\"beta\"] + band_powers[\"alpha\"]) if (band_powers[\"beta\"] + band_powers[\"alpha\"]) != 0 else np.nan\n",
    "    alpha_theta_ratio = band_powers[\"alpha\"] / band_powers[\"theta\"] if band_powers[\"theta\"] != 0 else np.nan\n",
    "    theta_alpha_ratio = band_powers[\"theta\"] / band_powers[\"alpha\"] if band_powers[\"alpha\"] != 0 else np.nan\n",
    "    \n",
    "    return {\n",
    "        \"alpha_beta_ratio\": alpha_beta_ratio,\n",
    "        \"theta_beta_ratio\": theta_beta_ratio,\n",
    "        \"theta_alpha_beta_ratio\": theta_alpha_beta_ratio,\n",
    "        \"theta_alpha_beta_alpha_ratio\": theta_alpha_beta_alpha_ratio,\n",
    "        \"alpha_theta_ratio\": alpha_theta_ratio,\n",
    "        \"theta_alpha_ratio\": theta_alpha_ratio\n",
    "    }"
   ]
  },
  {
   "cell_type": "code",
   "execution_count": null,
   "metadata": {},
   "outputs": [],
   "source": [
    "def calc_avg_band_powers(band_powers):\n",
    "    avg_band_powers = {}    \n",
    "    bands = band_powers[0].keys()\n",
    "     \n",
    "    for band in bands:\n",
    "        avg_band_powers[f\"avg_{band}\"] = np.mean([channel[band] for channel in band_powers])\n",
    "        \n",
    "    return avg_band_powers"
   ]
  },
  {
   "cell_type": "code",
   "execution_count": null,
   "metadata": {},
   "outputs": [],
   "source": [
    "def calc_asymmetry(band_powers):\n",
    "    left_power = 0\n",
    "    right_power = 0\n",
    "    \n",
    "    for i, channel in enumerate(CHANNELS):\n",
    "        if channel in LEFT_HEMISPHERE:\n",
    "            powers = list(band_powers[i].values())\n",
    "            for power in powers:\n",
    "                left_power += power\n",
    "        elif channel in RIGHT_HEMISPHERE:\n",
    "            powers = list(band_powers[i].values())\n",
    "            for power in powers:\n",
    "                right_power += power\n",
    "            \n",
    "    left_power = np.log(left_power) if left_power != 0 else 0\n",
    "    right_power = np.log(right_power) if right_power != 0 else 0\n",
    "    \n",
    "    asymmetry = left_power - right_power\n",
    "    return asymmetry"
   ]
  },
  {
   "cell_type": "markdown",
   "metadata": {},
   "source": [
    "### process windows"
   ]
  },
  {
   "cell_type": "code",
   "execution_count": null,
   "metadata": {},
   "outputs": [],
   "source": [
    "def extract_features(window):\n",
    "    patient_id = window.coords[\"patient_id\"].values.item()\n",
    "    label = window.coords[\"label\"].values.item()\n",
    "\n",
    "    features = {\n",
    "        \"patient_id\": patient_id,\n",
    "        \"label\": label\n",
    "    }\n",
    "\n",
    "    channel_band_powers = []\n",
    "\n",
    "    for channel in CHANNELS:\n",
    "        channel_data = window.sel(channel=channel).values\n",
    "        wavelet_features = extract_wavelet_features(channel_data)\n",
    "        band_powers = extract_band_power(channel_data)\n",
    "        power_ratios = calc_power_ratios(band_powers)\n",
    "\n",
    "        wavelet_features = {f\"{channel}_{key}\": value for key, value in wavelet_features.items()}\n",
    "        features.update(wavelet_features)\n",
    "\n",
    "        power_ratios = {f\"{channel}_{key}\": value for key, value in power_ratios.items()}\n",
    "        features.update(power_ratios)\n",
    "\n",
    "        channel_band_powers.append(band_powers)\n",
    "        band_powers = {f\"{channel}_{key}\": value for key, value in band_powers.items()}\n",
    "        features.update(band_powers)\n",
    "        \n",
    "    asymmetry = calc_asymmetry(channel_band_powers)\n",
    "    features[\"asymmetry\"] = asymmetry\n",
    "    \n",
    "    return pd.Series(features)"
   ]
  },
  {
   "cell_type": "code",
   "execution_count": null,
   "metadata": {},
   "outputs": [],
   "source": [
    "def extract_features_parallel(windows, num_processes=None):\n",
    "    manager = mp.Manager()\n",
    "    queue = manager.Queue()\n",
    "\n",
    "    if num_processes is None:\n",
    "        num_processes = mp.cpu_count()\n",
    "    \n",
    "    def listener(q, total):\n",
    "        pbar = tqdm(total=total, desc=\"Processing windows\")\n",
    "        for _ in range(total):\n",
    "            q.get()\n",
    "            pbar.update()\n",
    "            pbar.refresh()\n",
    "\n",
    "        pbar.close()\n",
    "\n",
    "    def callback(_):\n",
    "        queue.put(1)    \n",
    "\n",
    "    def error_callback(e):\n",
    "        print(f\"Error: {e}\")\n",
    "        queue.put(1)\n",
    "\n",
    "    with mp.Pool(num_processes) as pool:\n",
    "        print(\"Starting parallel feature extraction...\")\n",
    "        listener_process = mp.Process(target=listener, args=(queue, len(windows)))\n",
    "        listener_process.start()\n",
    "\n",
    "        features = []\n",
    "\n",
    "        for window in windows:\n",
    "            window_features = pool.apply_async(extract_features, args=(window,), callback=callback, error_callback=error_callback)\n",
    "            features.append(window_features)\n",
    "\n",
    "        pool.close()\n",
    "        pool.join()\n",
    "        \n",
    "        listener_process.join()\n",
    "\n",
    "        features = [r.get() for r in features]\n",
    "        features = [r for r in features if r is not None]\n",
    "\n",
    "        print(\"Combining results...\")\n",
    "\n",
    "        features = pd.concat(features, axis=1).T\n",
    "\n",
    "        print(\"Finished feature extraction.\")\n",
    "\n",
    "        return features"
   ]
  },
  {
   "cell_type": "code",
   "execution_count": null,
   "metadata": {},
   "outputs": [],
   "source": [
    "features = extract_features_parallel(windows)"
   ]
  },
  {
   "cell_type": "markdown",
   "metadata": {},
   "source": [
    "### write extracted features to disk"
   ]
  },
  {
   "cell_type": "code",
   "execution_count": null,
   "metadata": {},
   "outputs": [],
   "source": [
    "OUTPUT_FILE = f\"{OUTPUT_PATH}/features_{WINDOW_LENGTH}.csv\"\n",
    "features.to_csv(OUTPUT_FILE, index=False)"
   ]
  },
  {
   "cell_type": "code",
   "execution_count": null,
   "metadata": {},
   "outputs": [],
   "source": []
  }
 ],
 "metadata": {
  "kernelspec": {
   "display_name": "mne",
   "language": "python",
   "name": "python3"
  },
  "language_info": {
   "codemirror_mode": {
    "name": "ipython",
    "version": 3
   },
   "file_extension": ".py",
   "mimetype": "text/x-python",
   "name": "python",
   "nbconvert_exporter": "python",
   "pygments_lexer": "ipython3",
   "version": "3.12.4"
  }
 },
 "nbformat": 4,
 "nbformat_minor": 2
}
