{
 "cells": [
  {
   "cell_type": "code",
   "execution_count": null,
   "metadata": {
    "ExecuteTime": {
     "end_time": "2024-06-07T11:30:14.650631Z",
     "start_time": "2024-06-07T11:30:14.647118Z"
    }
   },
   "outputs": [],
   "source": [
    "%matplotlib qt\n",
    "\n",
    "import mne\n",
    "import matplotlib.pyplot as plt\n",
    "import numpy as np\n",
    "import enum\n",
    "import os"
   ]
  },
  {
   "cell_type": "code",
   "execution_count": null,
   "metadata": {
    "ExecuteTime": {
     "end_time": "2024-06-12T06:52:00.384042Z",
     "start_time": "2024-06-12T06:52:00.380445Z"
    }
   },
   "outputs": [],
   "source": [
    "TUH_EEG_SEIZURE_CORPUS = \"/Users/jannis/Git/tuh-eeg-seizure-detection/data/raw\"\n",
    "OUTPUT = \"Users/jannis/Git/tuh-eeg-seizure-detection/data/preprocessed\""
   ]
  },
  {
   "cell_type": "code",
   "execution_count": null,
   "metadata": {
    "ExecuteTime": {
     "end_time": "2024-06-07T11:43:20.487921Z",
     "start_time": "2024-06-07T11:43:20.480443Z"
    }
   },
   "outputs": [],
   "source": [
    "class Recording:\n",
    "    path: str\n",
    "    annotations: mne.Annotations\n",
    "    \n",
    "    # seizures are tuples of onset and duration\n",
    "    seizures: list[(float, float)]\n",
    "    \n",
    "    # non-seizures are tuples of onset and duration\n",
    "    non_seizures: list[(float, float)]\n",
    "    \n",
    "    \n",
    "    def __init__(self, path: str):\n",
    "        self.path = path\n",
    "        self.annotations = self._parse_annotation_file()\n",
    "        \n",
    "        self.seizures = [(self.annotations.onset[i], self.annotations.duration[i]) for i, x in enumerate(self.annotations.description) if x == \"seiz\"]\n",
    "        self.non_seizures = [(self.annotations.onset[i], self.annotations.duration[i]) for i, x in enumerate(self.annotations.description) if x == \"bckg\"]\n",
    "        \n",
    "    \n",
    "    def _parse_annotation_file(self):\n",
    "        #raw = mne.io.read_raw_edf(self.path)\n",
    "        annotation_file = self.path.replace(\".edf\", \".csv_bi\")\n",
    "        raw_annotations: list[str] = []\n",
    "\n",
    "        with open(annotation_file, \"r\") as f:\n",
    "            for line in f:\n",
    "                raw_annotations.append(line)\n",
    "\n",
    "        raw_annotations = raw_annotations[6:]\n",
    "\n",
    "        onset: list[float] = []\n",
    "        duration: list[float] = []\n",
    "        description: list[str] = []\n",
    "        \n",
    "        for line in raw_annotations:\n",
    "            parts = line.split(\",\")\n",
    "            start = float(parts[1])\n",
    "            end = float(parts[2])\n",
    "            label = parts[3]\n",
    "            \n",
    "            # prevent overlong annotations\n",
    "            #if end > raw.times[-1]:\n",
    "            #    end = raw.times[-1]\n",
    "            \n",
    "            onset.append(start)\n",
    "            duration.append(end - start)\n",
    "            description.append(label)\n",
    "\n",
    "        return mne.Annotations(onset, duration, description)\n",
    "    \n",
    "    \n",
    "    def plot(self, sfreq: int = 250):\n",
    "        raw = mne.io.read_raw_edf(self.path)\n",
    "        raw = self.resample(raw, sfreq)\n",
    "        annotations = self.fit_annotations(self.annotations, raw, sfreq)\n",
    "        \n",
    "        raw.set_annotations(annotations)\n",
    "        raw.plot()\n",
    "        \n",
    "    def fit_annotations(self, annotations, raw, target_sfreq):\n",
    "        scaling_factor = target_sfreq / raw.info['sfreq']\n",
    "        \n",
    "        # prevent overlong annotations\n",
    "        for i, onset in enumerate(annotations.onset):\n",
    "            if onset + annotations.duration[i] > raw.times[-1]:\n",
    "                annotations.duration[i] = raw.times[-1] - onset\n",
    "        \n",
    "        new_onsets = [onset * scaling_factor for onset in annotations.onset]\n",
    "        new_durations = [duration * scaling_factor for duration in annotations.duration]\n",
    "\n",
    "        return mne.Annotations(new_onsets, new_durations, annotations.description)\n",
    "    \n",
    "    def resample(self, raw, target_sfreq: int):\n",
    "        original_sfreq = raw.info['sfreq']\n",
    "       \n",
    "        if original_sfreq == target_sfreq:\n",
    "            return raw\n",
    "        \n",
    "        # Filter out frequencies above the Nyquist frequency\n",
    "        nyquist = original_sfreq / 2.0 \n",
    "        raw.filter(0, nyquist + 1.0 , fir_design='firwin')\n",
    "        \n",
    "        raw.resample(target_sfreq, npad=\"auto\")\n",
    "\n",
    "        return raw \n",
    "        \n",
    "    \n",
    "class Session:\n",
    "    session_id: str\n",
    "    recordings: list[Recording]\n",
    "    configuration: str\n",
    "    \n",
    "    def __init__(self, session_id: str, recordings: list[Recording], configuration: str):\n",
    "        self.session_id = session_id\n",
    "        self.recordings = recordings\n",
    "        self.configuration = configuration\n",
    "        \n",
    "\n",
    "class Patient:\n",
    "    patient_id: str\n",
    "    sessions: list[Session]\n",
    "    \n",
    "    def __init__(self, patient_id, sessions: list[Session]):\n",
    "        self.patient_id = patient_id\n",
    "        self.sessions = sessions"
   ]
  },
  {
   "cell_type": "code",
   "execution_count": null,
   "metadata": {
    "ExecuteTime": {
     "end_time": "2024-06-07T11:43:21.881536Z",
     "start_time": "2024-06-07T11:43:21.278433Z"
    }
   },
   "outputs": [],
   "source": [
    "# Load all patients\n",
    "patients: list[Patient] = []\n",
    "\n",
    "# iterate over all data sets in the TUH EEG Seizure Corpus edf folder\n",
    "for data_set in os.listdir(f\"{TUH_EEG_SEIZURE_CORPUS}/edf\"):\n",
    "    data_set_path = os.path.join(TUH_EEG_SEIZURE_CORPUS, 'edf', data_set)\n",
    "    if not os.path.isdir(data_set_path):\n",
    "        continue\n",
    "        \n",
    "    # iterate over all patients in the data set\n",
    "    for patient in os.listdir(f\"{TUH_EEG_SEIZURE_CORPUS}/edf/{data_set}\"):\n",
    "        patient_path = os.path.join(data_set_path, patient)\n",
    "        if not os.path.isdir(patient_path):\n",
    "            continue\n",
    "            \n",
    "        sessions = []\n",
    "        \n",
    "        # iterate over all sessions in the patient folder\n",
    "        for session in os.listdir(f\"{TUH_EEG_SEIZURE_CORPUS}/edf/{data_set}/{patient}\"):\n",
    "            session_path = os.path.join(patient_path, session)\n",
    "            if not os.path.isdir(session_path):\n",
    "                continue\n",
    "\n",
    "\n",
    "            recordings = []\n",
    "            \n",
    "            for configuration in os.listdir(f\"{TUH_EEG_SEIZURE_CORPUS}/edf/{data_set}/{patient}/{session}\"):\n",
    "                configuration_path = os.path.join(patient_path, session, configuration)\n",
    "                if not os.path.isdir(configuration_path):\n",
    "                    continue\n",
    "                    \n",
    "            \n",
    "                # iterate over all files in the configuration folder\n",
    "                for file in os.listdir(f\"{TUH_EEG_SEIZURE_CORPUS}/edf/{data_set}/{patient}/{session}/{configuration}\"):\n",
    "                    if not file.endswith(\".edf\"):\n",
    "                        continue\n",
    "                    \n",
    "                    recording = Recording(f\"{TUH_EEG_SEIZURE_CORPUS}/edf/{data_set}/{patient}/{session}/{configuration}/{file}\")\n",
    "                    recordings.append(recording)\n",
    "            \n",
    "            sessions.append(Session(session, recordings, configuration))\n",
    "        \n",
    "        patients.append(Patient(patient, sessions))\n",
    "        \n",
    "patients"
   ]
  },
  {
   "cell_type": "code",
   "execution_count": null,
   "metadata": {
    "ExecuteTime": {
     "end_time": "2024-06-07T12:32:59.865413Z",
     "start_time": "2024-06-07T12:32:58.403333Z"
    }
   },
   "outputs": [],
   "source": [
    "from mne.io.edf.edf import RawEDF\n",
    "\n",
    "patient = patients[0]\n",
    "recording = patient.sessions[0].recordings[0]\n",
    "\n",
    "raw:RawEDF = mne.io.read_raw_edf(recording.path, preload=True) \n",
    "annotations = recording._parse_annotation_file()\n",
    "annotations = recording.fit_annotations(recording.annotations, raw, 250)\n",
    "raw = recording.resample(raw, 250)\n",
    "raw.set_annotations(annotations)\n",
    "\n",
    "def extract_segments(raw: RawEDF):\n",
    "    non_seizure = []\n",
    "    seizure = []\n",
    "    \n",
    "    for i, onset in enumerate(annotations.onset):\n",
    "        if annotations.description[i] == \"seiz\":\n",
    "            seizure.append(raw.copy().crop(onset, onset + annotations.duration[i]))\n",
    "        else:\n",
    "            non_seizure.append(raw.copy().crop(onset, onset + annotations.duration[i]))\n",
    "            \n",
    "    return seizure, non_seizure\n",
    "            \n",
    "def extract_windows(seizure, non_seizure):\n",
    "    # one second windows\n",
    "    window_size = 1\n",
    "    seizure_windows = []\n",
    "    non_seizure_windows = []\n",
    "    \n",
    "    for segment in seizure:\n",
    "        for i in range(int(segment.times[-1] // window_size)):\n",
    "            seizure_windows.append(segment.copy().crop(i, i + window_size))\n",
    "            \n",
    "    for segment in non_seizure:\n",
    "        for i in range(int(segment.times[-1] // window_size)):\n",
    "            non_seizure_windows.append(segment.copy().crop(i, i + window_size)) \n",
    "            \n",
    "    return seizure_windows, non_seizure_windows\n",
    "\n",
    "seizure, non_seizure = extract_segments(raw)\n",
    "seizure_windows, non_seizure_windows = extract_windows(seizure, non_seizure)\n",
    "seizure_windows[461].plot()\n",
    "len(seizure_windows), len(non_seizure_windows)"
   ]
  },
  {
   "cell_type": "code",
   "execution_count": null,
   "metadata": {
    "ExecuteTime": {
     "end_time": "2024-06-07T12:35:40.887583Z",
     "start_time": "2024-06-07T12:35:40.761236Z"
    }
   },
   "outputs": [],
   "source": [
    "import pywt\n",
    "\n",
    "# extract wavelet features\n",
    "def extract_wavelet_features(raw: RawEDF, channels=[\"EEG FP1-LE\"]):\n",
    "    features = []\n",
    "    \n",
    "    for channel in channels:\n",
    "        data = raw.copy().pick(channel).get_data()[0]\n",
    "        coeffs = pywt.wavedec(data, 'db4', level=4)\n",
    "        features.append(coeffs)\n",
    "        \n",
    "    return features\n",
    "\n",
    "features = extract_wavelet_features(seizure_windows[0])\n",
    "[phi, psi, x] = pywt.Wavelet('db4').wavefun(level=4) \n",
    "\n",
    "fig, axs = plt.subplots(0, len(features), figsize=(15, 10))\n",
    "for j, band in enumerate(features):\n",
    "    axs[0, j].plot(band)\n",
    "    axs[0, j].set_title(f'Band {j+1}')\n",
    "plt.tight_layout()\n",
    "plt.show()\n"
   ]
  },
  {
   "cell_type": "code",
   "execution_count": null,
   "metadata": {
    "ExecuteTime": {
     "end_time": "2024-06-07T11:32:16.256429Z",
     "start_time": "2024-06-07T11:32:16.247799Z"
    }
   },
   "outputs": [],
   "source": [
    "# check if there are duplicate patients across data sets\n",
    "patient_ids = [patient.patient_id for patient in patients]\n",
    "duplicates = set([x for x in patient_ids if patient_ids.count(x) > 1])\n",
    "duplicates"
   ]
  },
  {
   "cell_type": "code",
   "execution_count": null,
   "metadata": {
    "ExecuteTime": {
     "end_time": "2024-06-07T11:32:20.751569Z",
     "start_time": "2024-06-07T11:32:20.743281Z"
    }
   },
   "outputs": [],
   "source": [
    "# check if there are patients without seizures\n",
    "patients_without_seizures: list[Patient] = [] \n",
    "patients_with_and_without_seizures: list[Patient] = []\n",
    "patients_with_seizures: list[Patient] = []\n",
    "\n",
    "for patient in patients:\n",
    "    has_non_seizure = False\n",
    "    has_seizures = False\n",
    "    \n",
    "    for session in patient.sessions:\n",
    "        for recording in session.recordings:\n",
    "            if len(recording.seizures) > 0:\n",
    "                has_seizures = True\n",
    "                \n",
    "            if len(recording.non_seizures) > 0:\n",
    "                has_non_seizure = True\n",
    "            \n",
    "    if has_seizures and has_non_seizure:\n",
    "        patients_with_and_without_seizures.append(patient)\n",
    "    elif has_seizures:\n",
    "        patients_with_seizures.append(patient)\n",
    "    else:\n",
    "        patients_without_seizures.append(patient)\n",
    "       \n",
    "len(patients_without_seizures), len(patients_with_seizures), len(patients_with_and_without_seizures)"
   ]
  },
  {
   "cell_type": "code",
   "execution_count": null,
   "metadata": {
    "ExecuteTime": {
     "end_time": "2024-06-07T12:50:42.822709Z",
     "start_time": "2024-06-07T12:50:42.819897Z"
    }
   },
   "outputs": [],
   "source": [
    "def get_windows(window_size: int, patient: Patient):\n",
    "    non_seizure_windows = 0\n",
    "    seizure_windows = 0\n",
    "    \n",
    "    for session in patient.sessions:\n",
    "        for recording in session.recordings:\n",
    "            seizures = recording.seizures\n",
    "            non_seizures = recording.non_seizures\n",
    "            \n",
    "            for seizure in seizures:\n",
    "                # if seizure duration is smaller than window size, skip\n",
    "                if seizure[1] < window_size:\n",
    "                    continue\n",
    "                    \n",
    "                # number of windows is floor of seizure duration divided by window size\n",
    "                seizure_windows += int(seizure[1] // window_size)\n",
    "            \n",
    "            for non_seizure in non_seizures:\n",
    "                # if non-seizure duration is smaller than window size, skip\n",
    "                if non_seizure[1] < window_size:\n",
    "                    continue\n",
    "                    \n",
    "                # number of windows is floor of non-seizure duration divided by window size\n",
    "                non_seizure_windows += int(non_seizure[1] // window_size)\n",
    "                \n",
    "    return seizure_windows, non_seizure_windows"
   ]
  },
  {
   "cell_type": "markdown",
   "metadata": {},
   "source": [
    "# We want to extract information per set\n",
    "-> for each set\n",
    "-> number of patients, total number of seizure/non-seizure events, total duration of seizure/non-seizure events, total number of seizure/non-seizure windows\n",
    "-> boxplot of seizures/non-seizures across all patients"
   ]
  },
  {
   "cell_type": "code",
   "execution_count": null,
   "metadata": {
    "ExecuteTime": {
     "end_time": "2024-06-07T12:50:09.468129Z",
     "start_time": "2024-06-07T12:50:09.464377Z"
    }
   },
   "outputs": [],
   "source": [
    "def load_set(set_name: str, configurations: list[str]):\n",
    "    patients: list[Patient] = []\n",
    "    \n",
    "    for patient in os.listdir(f\"{TUH_EEG_SEIZURE_CORPUS}/edf/{set_name}\"):\n",
    "        if not os.path.isdir(f\"{TUH_EEG_SEIZURE_CORPUS}/edf/{set_name}/{patient}\"):\n",
    "            continue\n",
    "\n",
    "        sessions = []\n",
    "\n",
    "        for session in os.listdir(f\"{TUH_EEG_SEIZURE_CORPUS}/edf/{set_name}/{patient}\"):\n",
    "            if not os.path.isdir(f\"{TUH_EEG_SEIZURE_CORPUS}/edf/{set_name}/{patient}/{session}\"):\n",
    "                continue\n",
    "\n",
    "            recordings = []\n",
    "\n",
    "            for configuration in os.listdir(f\"{TUH_EEG_SEIZURE_CORPUS}/edf/{set_name}/{patient}/{session}\"):\n",
    "                if configuration not in configurations:\n",
    "                    continue\n",
    "                    \n",
    "                if not os.path.isdir(f\"{TUH_EEG_SEIZURE_CORPUS}/edf/{set_name}/{patient}/{session}/{configuration}\"):\n",
    "                    continue\n",
    "\n",
    "                # iterate over all files in the configuration folder\n",
    "                for file in os.listdir(f\"{TUH_EEG_SEIZURE_CORPUS}/edf/{set_name}/{patient}/{session}/{configuration}\"):\n",
    "                    if not file.endswith(\".edf\"):\n",
    "                        continue\n",
    "\n",
    "                    recording = Recording(f\"{TUH_EEG_SEIZURE_CORPUS}/edf/{set_name}/{patient}/{session}/{configuration}/{file}\")\n",
    "                    recordings.append(recording)\n",
    "\n",
    "            if len(recordings) != 0:\n",
    "                sessions.append(Session(session, recordings, configuration))\n",
    "\n",
    "        if len(sessions) != 0: \n",
    "            patients.append(Patient(patient, sessions))\n",
    "        \n",
    "    return patients"
   ]
  },
  {
   "cell_type": "code",
   "execution_count": null,
   "metadata": {
    "ExecuteTime": {
     "end_time": "2024-06-07T12:50:11.474434Z",
     "start_time": "2024-06-07T12:50:10.356465Z"
    }
   },
   "outputs": [],
   "source": [
    "configurations = [\"01_tcp_ar\"]\n",
    "dev_patients = load_set(\"dev\", configurations)\n",
    "eval_patients = load_set(\"eval\", configurations)\n",
    "train_patients = load_set(\"train\", configurations)"
   ]
  },
  {
   "cell_type": "code",
   "execution_count": null,
   "metadata": {
    "ExecuteTime": {
     "end_time": "2024-06-07T12:50:15.673823Z",
     "start_time": "2024-06-07T12:50:15.470426Z"
    }
   },
   "outputs": [],
   "source": [
    "# plot number of patients in each set\n",
    "\n",
    "num_dev_patients = len(dev_patients)\n",
    "num_eval_patients = len(eval_patients)\n",
    "num_train_patients = len(train_patients)\n",
    "\n",
    "plt.figure(figsize=(10, 6))\n",
    "plt.bar(['dev', 'eval', 'train'], [num_dev_patients, num_eval_patients, num_train_patients])\n",
    "plt.title('Number of Patients in each Set')\n",
    "plt.xlabel('Set')\n",
    "plt.ylabel('Number of Patients')\n",
    "%matplotlib inline\n",
    "plt.show()"
   ]
  },
  {
   "cell_type": "code",
   "execution_count": null,
   "metadata": {
    "ExecuteTime": {
     "end_time": "2024-06-07T12:50:22.543461Z",
     "start_time": "2024-06-07T12:50:22.540710Z"
    }
   },
   "outputs": [],
   "source": [
    "def get_total_events(set: list[Patient]):\n",
    "    total_seizure_events = 0\n",
    "    total_non_seizure_events = 0\n",
    "    \n",
    "    for patient in set:\n",
    "        for session in patient.sessions:\n",
    "            for recording in session.recordings:\n",
    "                total_seizure_events += len(recording.seizures)\n",
    "                total_non_seizure_events += len(recording.non_seizures)\n",
    "                \n",
    "    return total_seizure_events, total_non_seizure_events"
   ]
  },
  {
   "cell_type": "code",
   "execution_count": null,
   "metadata": {
    "ExecuteTime": {
     "end_time": "2024-06-07T12:50:26.255852Z",
     "start_time": "2024-06-07T12:50:26.124945Z"
    }
   },
   "outputs": [],
   "source": [
    "dev_seizures, dev_non_seizures = get_total_events(dev_patients)\n",
    "eval_seizures, eval_non_seizures = get_total_events(eval_patients)\n",
    "train_seizures, train_non_seizures = get_total_events(train_patients)\n",
    "\n",
    "plt.figure(figsize=(10, 6))\n",
    "plt.bar(['dev', 'eval', 'train'], [dev_seizures, eval_seizures, train_seizures], label='Seizures')\n",
    "plt.bar(['dev', 'eval', 'train'], [dev_non_seizures, eval_non_seizures, train_non_seizures], label='Non-Seizures', bottom=[dev_seizures, eval_seizures, train_seizures])\n",
    "plt.title('Total Number of Seizure and Non-Seizure Events in each Set')\n",
    "plt.xlabel('Set')\n",
    "plt.ylabel('Number of Events')\n",
    "plt.legend()\n",
    "%matplotlib inline\n",
    "plt.show()\n"
   ]
  },
  {
   "cell_type": "code",
   "execution_count": null,
   "metadata": {
    "ExecuteTime": {
     "end_time": "2024-06-07T12:50:30.517597Z",
     "start_time": "2024-06-07T12:50:30.514181Z"
    }
   },
   "outputs": [],
   "source": [
    "def get_total_duration(set: list[Patient]):\n",
    "    total_seizure_duration = 0\n",
    "    total_non_seizure_duration = 0\n",
    "    \n",
    "    for patient in set:\n",
    "        for session in patient.sessions:\n",
    "            for recording in session.recordings:\n",
    "                total_seizure_duration += sum([x[1] for x in recording.seizures])\n",
    "                total_non_seizure_duration += sum([x[1] for x in recording.non_seizures])\n",
    "                \n",
    "    return total_seizure_duration, total_non_seizure_duration"
   ]
  },
  {
   "cell_type": "code",
   "execution_count": null,
   "metadata": {
    "ExecuteTime": {
     "end_time": "2024-06-07T12:50:31.611179Z",
     "start_time": "2024-06-07T12:50:31.605359Z"
    }
   },
   "outputs": [],
   "source": [
    "dev_seizure_duration, dev_non_seizure_duration = get_total_duration(dev_patients)\n",
    "eval_seizure_duration, eval_non_seizure_duration = get_total_duration(eval_patients)\n",
    "train_seizure_duration, train_non_seizure_duration = get_total_duration(train_patients)\n",
    "\n",
    "print(dev_seizure_duration , dev_non_seizure_duration)\n",
    "print(eval_seizure_duration, eval_non_seizure_duration)\n",
    "print(train_seizure_duration, train_non_seizure_duration)"
   ]
  },
  {
   "cell_type": "code",
   "execution_count": null,
   "metadata": {
    "ExecuteTime": {
     "end_time": "2024-06-07T12:50:49.144446Z",
     "start_time": "2024-06-07T12:50:49.141922Z"
    }
   },
   "outputs": [],
   "source": [
    "def get_set_windows(set: list[Patient], window_size: int):\n",
    "    seizure_windows = 0\n",
    "    non_seizure_windows = 0\n",
    "    \n",
    "    for patient in set:\n",
    "        seizure_windows_patient, non_seizure_windows_patient = get_windows(window_size, patient)\n",
    "        seizure_windows += seizure_windows_patient\n",
    "        non_seizure_windows += non_seizure_windows_patient\n",
    "                \n",
    "    return seizure_windows, non_seizure_windows"
   ]
  },
  {
   "cell_type": "code",
   "execution_count": null,
   "metadata": {
    "ExecuteTime": {
     "end_time": "2024-06-07T12:50:51.682875Z",
     "start_time": "2024-06-07T12:50:51.676304Z"
    }
   },
   "outputs": [],
   "source": [
    "window_size = 1\n",
    "dev_seizure_windows, dev_non_seizure_windows = get_set_windows(dev_patients, window_size)\n",
    "eval_seizure_windows, eval_non_seizure_windows = get_set_windows(eval_patients, window_size)\n",
    "train_seizure_windows, train_non_seizure_windows = get_set_windows(train_patients, window_size)\n",
    "\n",
    "print(dev_seizure_windows, dev_non_seizure_windows)\n",
    "print(eval_seizure_windows, eval_non_seizure_windows)\n",
    "print(train_seizure_windows, train_non_seizure_windows)"
   ]
  },
  {
   "cell_type": "code",
   "execution_count": null,
   "metadata": {
    "ExecuteTime": {
     "end_time": "2024-06-07T12:51:08.391331Z",
     "start_time": "2024-06-07T12:51:08.301321Z"
    }
   },
   "outputs": [],
   "source": [
    "# Example of corrupted session according to previous analysis (aaaaacyi)\n",
    "dev_patients[0].sessions[2].recordings[0].plot()\n",
    "print(\"Test\")"
   ]
  },
  {
   "cell_type": "code",
   "execution_count": null,
   "metadata": {
    "ExecuteTime": {
     "end_time": "2024-06-05T18:23:00.535711Z",
     "start_time": "2024-06-05T18:23:00.174949Z"
    }
   },
   "outputs": [],
   "source": [
    "# Example of lost segments\n",
    "dev_patients[0].sessions[2].recordings[1].plot()"
   ]
  },
  {
   "cell_type": "code",
   "execution_count": null,
   "metadata": {
    "ExecuteTime": {
     "end_time": "2024-06-05T18:24:33.568116Z",
     "start_time": "2024-06-05T18:24:33.074196Z"
    }
   },
   "outputs": [],
   "source": [
    "recording_file = train_patients[0].sessions[0].recordings[0].path\n",
    "raw = mne.io.read_raw_edf(recording_file, preload=True)\n",
    "raw.plot()"
   ]
  },
  {
   "cell_type": "code",
   "execution_count": null,
   "metadata": {
    "ExecuteTime": {
     "end_time": "2024-06-05T19:05:58.474594Z",
     "start_time": "2024-06-05T19:05:57.901066Z"
    }
   },
   "outputs": [],
   "source": [
    "# select only specific channels\n",
    "channels = [\"EEG FP1-REF\", \"EEG FP2-REF\", \"EEG F7-REF\", \"EEG F3-REF\", \"EEG F4-REF\", \"EEG F8-REF\", \"EEG T3-REF\", \"EEG C3-REF\", \"EEG C4-REF\", \"EEG T4-REF\", \"EEG T5-REF\", \"EEG P3-REF\", \"EEG P4-REF\", \"EEG T6-REF\", \"EEG O1-REF\", \"EEG O2-REF\", \"EEG CZ-REF\", \"EEG A1-REF\", \"EEG A2-REF\", \"EEG FZ-REF\", \"EEG PZ-REF\"]\n",
    "recording = train_patients[0].sessions[0].recordings[0]\n",
    "raw = mne.io.read_raw_edf(recording.path, preload=True).set_annotations(recording.annotations).pick(channels)\n",
    "raw.plot()\n",
    "\n",
    "#ch = mne.pick_channels(raw.info[\"ch_names\"], include=channels)\n",
    "#combined_raw = mne.channels.combine_channels(raw, dict(eeg=ch), method='mean')\n",
    "#combined_segmented = mne.make_fixed_length_epochs(combined_raw, duration=1, preload=True)\n",
    "#combined_segmented.plot()\n"
   ]
  },
  {
   "cell_type": "code",
   "execution_count": null,
   "metadata": {},
   "outputs": [],
   "source": []
  }
 ],
 "metadata": {
  "kernelspec": {
   "display_name": "Python 3 (ipykernel)",
   "language": "python",
   "name": "python3"
  },
  "language_info": {
   "codemirror_mode": {
    "name": "ipython",
    "version": 3
   },
   "file_extension": ".py",
   "mimetype": "text/x-python",
   "name": "python",
   "nbconvert_exporter": "python",
   "pygments_lexer": "ipython3",
   "version": "3.11.5"
  }
 },
 "nbformat": 4,
 "nbformat_minor": 2
}
