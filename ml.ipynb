{
 "cells": [
  {
   "cell_type": "code",
   "execution_count": null,
   "metadata": {},
   "outputs": [],
   "source": [
    "import pandas as pd\n",
    "import numpy as np\n",
    "from sklearn.svm import SVC\n",
    "from sklearn.svm import LinearSVC\n",
    "from sklearn.ensemble import RandomForestClassifier\n",
    "from sklearn.neighbors import KNeighborsClassifier\n",
    "from sklearn.metrics import make_scorer, accuracy_score, precision_score, recall_score, f1_score, roc_auc_score, classification_report\n",
    "from sklearn.pipeline import Pipeline\n",
    "from sklearn.model_selection import GridSearchCV\n",
    "from sklearn.preprocessing import StandardScaler\n",
    "from sklearn.model_selection import StratifiedGroupKFold, cross_validate\n"
   ]
  },
  {
   "cell_type": "code",
   "execution_count": null,
   "metadata": {},
   "outputs": [],
   "source": [
    "data = pd.read_csv(\"data/processed/windows_21_10_balanced_avg_energy.csv\")\n",
    "data"
   ]
  },
  {
   "cell_type": "code",
   "execution_count": null,
   "metadata": {},
   "outputs": [],
   "source": [
    "X = data.drop(columns=[\"label\", \"patient_id\"])\n",
    "y = data[\"label\"].map({'bckg': 0, 'seiz': 1})\n",
    "groups = data[\"patient_id\"]"
   ]
  },
  {
   "cell_type": "code",
   "execution_count": null,
   "metadata": {},
   "outputs": [],
   "source": [
    "y_frame = y.to_frame()\n",
    "y_frame[y_frame[\"label\"] == 0].count(), y_frame[y_frame[\"label\"] == 1].count()"
   ]
  },
  {
   "cell_type": "code",
   "execution_count": null,
   "metadata": {},
   "outputs": [],
   "source": [
    "def remove_highly_correlated_features(X, threshold=0.95):\n",
    "    # Calculate the correlation matrix\n",
    "    corr_matrix = X.corr().abs()\n",
    "    \n",
    "    # Select the upper triangle of the correlation matrix\n",
    "    upper = corr_matrix.where(np.triu(np.ones(corr_matrix.shape), k=1).astype(bool))\n",
    "    \n",
    "    # Find features with correlation greater than the threshold\n",
    "    to_drop = [column for column in upper.columns if any(upper[column] > threshold)]\n",
    "    \n",
    "    # Drop highly correlated features\n",
    "    X_reduced = X.drop(columns=to_drop)\n",
    "    \n",
    "    return X_reduced, to_drop\n",
    "\n",
    "X, _ = remove_highly_correlated_features(X, 0.95)\n",
    "X"
   ]
  },
  {
   "cell_type": "code",
   "execution_count": null,
   "metadata": {},
   "outputs": [],
   "source": [
    "cv = StratifiedGroupKFold(n_splits=5)\n",
    "\n",
    "scoring = {\n",
    "    'accuracy': make_scorer(accuracy_score),\n",
    "    'precision': make_scorer(precision_score, average='weighted'),\n",
    "    'recall': make_scorer(recall_score, average='weighted'),\n",
    "    'f1': make_scorer(f1_score, average='weighted'),\n",
    "    'roc_auc': make_scorer(roc_auc_score, average='weighted', multi_class='ovr')\n",
    "}\n",
    "\n",
    "def cross_validate_pipeline(pipeline):\n",
    "    results = cross_validate(pipeline, X, y, groups=groups, cv=cv, scoring=scoring, return_train_score=False)\n",
    "    avg_results = {metric: np.mean(values) for metric, values in results.items()}\n",
    "\n",
    "    return results, avg_results"
   ]
  },
  {
   "cell_type": "code",
   "execution_count": null,
   "metadata": {},
   "outputs": [],
   "source": [
    "rf_pipeline = Pipeline([\n",
    "    ('scale', StandardScaler()),\n",
    "    ('rf', RandomForestClassifier(n_estimators=400, random_state=42))\n",
    "])\n",
    "\n",
    "rf_results, rf_avg_results = cross_validate_pipeline(rf_pipeline)\n",
    "rf_results, rf_avg_results"
   ]
  },
  {
   "cell_type": "code",
   "execution_count": null,
   "metadata": {},
   "outputs": [],
   "source": [
    "svm_pipeline = Pipeline([\n",
    "     ('scale', StandardScaler()),\n",
    "     ('svm', SVC(kernel='rbf', C=1, gamma=0.001, probability=True, random_state=42))\n",
    "])\n",
    "\n",
    "svm_results, svm_avg_results = cross_validate_pipeline(svm_pipeline) \n",
    "svm_results, svm_avg_results"
   ]
  },
  {
   "cell_type": "code",
   "execution_count": null,
   "metadata": {},
   "outputs": [],
   "source": [
    "knn_pipeline = Pipeline([\n",
    "     ('scale', StandardScaler()),\n",
    "     ('knn', KNeighborsClassifier(n_neighbors=10))\n",
    "])\n",
    "\n",
    "knn_results, knn_avg_results = cross_validate_pipeline(knn_pipeline)\n",
    "knn_results, knn_avg_results"
   ]
  },
  {
   "cell_type": "code",
   "execution_count": null,
   "metadata": {},
   "outputs": [],
   "source": []
  }
 ],
 "metadata": {
  "kernelspec": {
   "display_name": "ba",
   "language": "python",
   "name": "python3"
  },
  "language_info": {
   "codemirror_mode": {
    "name": "ipython",
    "version": 3
   },
   "file_extension": ".py",
   "mimetype": "text/x-python",
   "name": "python",
   "nbconvert_exporter": "python",
   "pygments_lexer": "ipython3",
   "version": "3.12.2"
  }
 },
 "nbformat": 4,
 "nbformat_minor": 2
}
